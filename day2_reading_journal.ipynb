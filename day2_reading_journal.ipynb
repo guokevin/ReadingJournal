{
 "cells": [
  {
   "cell_type": "markdown",
   "metadata": {},
   "source": [
    "# Day 2 Reading Journal\n",
    "\n",
    "This journal includes several required exercises, but it is meant to encourage active reading more generally.  You should use the journal to take detailed notes, catalog questions, and explore the content from Think Python deeply.\n",
    "\n",
    "Reading: Think Python Chapter 6.1-6.4, 7\n",
    "\n",
    "**Due: Thursday, January 28 at 12 noon**\n",
    "\n"
   ]
  },
  {
   "cell_type": "markdown",
   "metadata": {},
   "source": [
    "## [Chapter 6.1-6.4](http://www.greenteapress.com/thinkpython/html/thinkpython007.html)\n",
    "\n",
    "Note: the exercise numbers below match up with the reading for ease of cross referencing."
   ]
  },
  {
   "cell_type": "markdown",
   "metadata": {},
   "source": [
    "### Return Values\n",
    "return *blank* for a return statement\n",
    "\n",
    "temporary variables makes debugging easier\n",
    "\n",
    "return statement causes function to terminate after it is executed\n",
    "\n",
    "dead code: code which is not executed because of a return statement\n",
    "\n",
    "Good to ensure every path gets a return statement\n",
    "\n",
    "### Incremental development\n",
    "\n",
    "Incremental Development allows for testing of code by adding and testing only small section of code at one time\n",
    "\n",
    "Steps:\n",
    "1. Create a function with a simple return value e.g. 0\n",
    "2. Test function with input\n",
    "3. Add code and print variables\n",
    "4. Revise and run program\n",
    "\n",
    "Print statements which help to test are called scaffolding and shuld be removed when function works\n",
    "\n",
    "### Composition\n",
    "\n",
    "Calling one function inside of another (nested function) is called composition\n",
    "\n",
    "Create temporary variables from functions\n",
    "\n",
    "### Boolean Functions\n",
    "\n",
    "Booleans are \"True\" and \"False\""
   ]
  },
  {
   "cell_type": "markdown",
   "metadata": {},
   "source": [
    "**Quick check:** What is a _fruitful function_?\n",
    "\n",
    "A fruitful function is one which does not return void"
   ]
  },
  {
   "cell_type": "markdown",
   "metadata": {},
   "source": [
    " "
   ]
  },
  {
   "cell_type": "markdown",
   "metadata": {},
   "source": [
    "### Exercise 1  \n",
    "Write a `compare` function that returns `1` if `x > y`, `0` if `x == y`, and `-1` if `x < y`."
   ]
  },
  {
   "cell_type": "code",
   "execution_count": 3,
   "metadata": {
    "collapsed": false
   },
   "outputs": [
    {
     "data": {
      "text/plain": [
       "-1"
      ]
     },
     "execution_count": 3,
     "metadata": {},
     "output_type": "execute_result"
    }
   ],
   "source": [
    "def comparefunc(x,y):\n",
    "    if x > y:\n",
    "        return 0\n",
    "    if x == y:\n",
    "        return 1\n",
    "    if x < y:\n",
    "        return -1\n",
    "    \n",
    "comparefunc(2,3)"
   ]
  },
  {
   "cell_type": "markdown",
   "metadata": {},
   "source": [
    "**Quick check:** Modify the `absolute_value` function so that it returns the correct result for all integer inputs."
   ]
  },
  {
   "cell_type": "code",
   "execution_count": 2,
   "metadata": {
    "collapsed": true
   },
   "outputs": [],
   "source": [
    "def absolute_value(x):\n",
    "    if x < 0:\n",
    "        return -x\n",
    "    if x > 0:\n",
    "        return x"
   ]
  },
  {
   "cell_type": "markdown",
   "metadata": {},
   "source": [
    "### Exercise 2  \n",
    "Use incremental development to write a function called `hypotenuse` that returns the length of the hypotenuse of a right triangle given the lengths of the two legs as arguments. Record each stage of the development process as you go, using as many cells as you need."
   ]
  },
  {
   "cell_type": "code",
   "execution_count": 9,
   "metadata": {
    "collapsed": false
   },
   "outputs": [
    {
     "name": "stdout",
     "output_type": "stream",
     "text": [
      "1\n",
      "2\n",
      "ab\n",
      "ab\n",
      "2.2360679775\n"
     ]
    },
    {
     "data": {
      "text/plain": [
       "2.23606797749979"
      ]
     },
     "execution_count": 9,
     "metadata": {},
     "output_type": "execute_result"
    }
   ],
   "source": [
    "import math\n",
    "\n",
    "def hypotenuse1(a,b):\n",
    "    print 'a' + 'b';\n",
    "\n",
    "def hypotenuse2(a,b):\n",
    "    c = math.sqrt(a**2 + b**2)\n",
    "\n",
    "def hypotenuse3(a,b):\n",
    "    print 'a' + 'b';\n",
    "    c = math.sqrt(a**2 + b**2)\n",
    "    print c;\n",
    "\n",
    "def hypotenuse4(a,b):\n",
    "    c = math.sqrt(a**2 + b**2)\n",
    "    return c\n",
    "    \n",
    "x = int(raw_input())\n",
    "y = int(raw_input())\n",
    "hypotenuse1(x,y)\n",
    "hypotenuse2(x,y)\n",
    "hypotenuse3(x,y)\n",
    "hypotenuse4(x,y)"
   ]
  },
  {
   "cell_type": "markdown",
   "metadata": {},
   "source": [
    "### Exercise 3  \n",
    "Write a function `is_between(x, y, z)` that returns `True` if `x ≤ y ≤ z` or `False` otherwise."
   ]
  },
  {
   "cell_type": "code",
   "execution_count": 12,
   "metadata": {
    "collapsed": false
   },
   "outputs": [
    {
     "data": {
      "text/plain": [
       "True"
      ]
     },
     "execution_count": 12,
     "metadata": {},
     "output_type": "execute_result"
    }
   ],
   "source": [
    "def is_between(x,y,z):\n",
    "    if(x <= y and y <= z):\n",
    "        return True\n",
    "    else:\n",
    "        return False\n",
    "    \n",
    "is_between(1,2,3)"
   ]
  },
  {
   "cell_type": "markdown",
   "metadata": {},
   "source": [
    "## [Chapter 7](http://www.greenteapress.com/thinkpython/html/thinkpython008.html)\n",
    "\n"
   ]
  },
  {
   "cell_type": "markdown",
   "metadata": {},
   "source": [
    "### Multiple Assignment\n",
    "\n",
    "Comma suppresses new line for print (e.g. print 'bruce',)\n",
    "\n",
    "Equality does not equal to assignment and variables are not dependent on each other if they're not related\n",
    "\n",
    "### Updating Variables\n",
    "\n",
    "Update makes new variable depend on the old but has same variable name\n",
    "\n",
    "Initialize, Increment, Decrement\n",
    "\n",
    "### The While Statement\n",
    "\n",
    "Repetition is called iteration\n",
    "\n",
    "while n>0:\n",
    "    print(3)\n",
    "    \n",
    "### Break\n",
    "\n",
    "*break* exits the loop\n",
    "\n",
    "### Square Roots\n",
    "\n",
    "Comparing floats can be inaccurate\n",
    "\n",
    "Instead use abs(y-x) < epsilon to find magnitude of difference between values that's \"good enough\"\n",
    "\n",
    "### Algorithms\n",
    "\n",
    "Mechanical processes that follow list of rules\n",
    "\n",
    "### Debugging\n",
    "\n",
    "Debugging by bisection--try looking at multiple halves of the program\n"
   ]
  },
  {
   "cell_type": "markdown",
   "metadata": {},
   "source": [
    "**Quick check:** How do you test for equality in Python?"
   ]
  },
  {
   "cell_type": "markdown",
   "metadata": {},
   "source": [
    " == symbol"
   ]
  },
  {
   "cell_type": "markdown",
   "metadata": {},
   "source": [
    "**Challenge:** Prove/disprove the Collatz conjecture :)"
   ]
  },
  {
   "cell_type": "markdown",
   "metadata": {},
   "source": [
    "### Exercise 2  \n",
    "Encapsulate the loop from Section 7.5 in a function called `square_root` that takes `a` as a parameter, chooses a reasonable value of `x`, and returns an estimate of the square root of `a`."
   ]
  },
  {
   "cell_type": "code",
   "execution_count": 51,
   "metadata": {
    "collapsed": false
   },
   "outputs": [
    {
     "name": "stdout",
     "output_type": "stream",
     "text": [
      "1542.0\n",
      "771.666666667\n",
      "387.165514759\n",
      "196.237952537\n",
      "103.357514414\n",
      "61.6248168219\n",
      "47.4939995785\n",
      "45.3918393295\n",
      "45.343162323\n",
      "45.343136195\n"
     ]
    },
    {
     "data": {
      "text/plain": [
       "45.34313619502606"
      ]
     },
     "execution_count": 51,
     "metadata": {},
     "output_type": "execute_result"
    }
   ],
   "source": [
    "def square_root(a):\n",
    "    x = 3 * a / 4.0\n",
    "    epsilon = .0000001\n",
    "    while True:\n",
    "        print x\n",
    "        y = (x + a/x) / 2\n",
    "        if abs(y-x) < epsilon:\n",
    "            break\n",
    "        x = y\n",
    "    return x\n",
    "\n",
    "square_root(2056)"
   ]
  },
  {
   "cell_type": "markdown",
   "metadata": {},
   "source": [
    "### Exercise 3  \n",
    "To test the square root algorithm you developed in Exercise 2, you could compare it with Python's `math.sqrt` function. Write a function named `test_square_root` that prints a table like this:\n",
    "\n",
    "```python\n",
    "1.0 1.0           1.0           0.0\n",
    "2.0 1.41421356237 1.41421356237 2.22044604925e-16\n",
    "3.0 1.73205080757 1.73205080757 0.0\n",
    "4.0 2.0           2.0           0.0\n",
    "5.0 2.2360679775  2.2360679775  0.0\n",
    "6.0 2.44948974278 2.44948974278 0.0\n",
    "7.0 2.64575131106 2.64575131106 0.0\n",
    "8.0 2.82842712475 2.82842712475 4.4408920985e-16\n",
    "9.0 3.0           3.0           0.0\n",
    "```\n",
    "\n",
    "The first column is a number, `a`; the second column is the square root of a computed with the function from Section 7.5; the third column is the square root computed by `math.sqrt`; the fourth column is the absolute value of the difference between the two estimates."
   ]
  },
  {
   "cell_type": "code",
   "execution_count": 54,
   "metadata": {
    "collapsed": false
   },
   "outputs": [
    {
     "name": "stdout",
     "output_type": "stream",
     "text": [
      "1  1.0             1.0             0.0\n",
      "2  1.41421356237   1.41421356237   0.0\n",
      "3  1.73205080757   1.73205080757   0.0\n",
      "4  2.00000000003   2.0             3.00000024822e-11\n",
      "5  2.23606797875   2.2360679775    1.25000010343e-09\n",
      "6  2.44948975895   2.44948974278   1.61700000056e-08\n",
      "7  2.64575131106   2.64575131106   0.0\n",
      "8  2.82842712475   2.82842712475   0.0\n",
      "9  3.0             3.0             0.0\n"
     ]
    }
   ],
   "source": [
    "import math\n",
    "\n",
    "def square_root(a):\n",
    "    epsilon = .0000001\n",
    "    x = 3.0 * a / 4\n",
    "    while True:\n",
    "        y = (x + a/x) / 2\n",
    "        if abs(y-x) < epsilon:\n",
    "            break\n",
    "        x = y\n",
    "    return x\n",
    "    \n",
    "def test_square_root():\n",
    "    n = 1\n",
    "    while n < 10:\n",
    "        sqrt = str(square_root(n))\n",
    "        #print(sqrt)\n",
    "        control = str(math.sqrt(n))\n",
    "        #print(control)\n",
    "        print str(n) + ' '*(3-len(str(n))) + sqrt + ' '*(16-len(sqrt)) + control + ' '*(16-len(control)) + str(abs(float(sqrt)) - float(control))\n",
    "        n = n + 1\n",
    "\n",
    "test_square_root()"
   ]
  },
  {
   "cell_type": "markdown",
   "metadata": {},
   "source": [
    "### Challenge: Exercise 5  (optional)\n",
    "The mathematician Srinivasa Ramanujan found an infinite series that can be used to generate a numerical approximation of\n",
    "$\\frac{1}{\\pi}$:\n",
    "\n",
    "$$\\frac{1}{\\pi} = \\frac{2 \\sqrt{2}}{9801} \\sum_{k=0}^{\\infty} \\frac{(4k)! (1103+26390k)}{(k!)^4 396^{4k}}$$\n",
    " \n",
    "Write a function called `estimate_pi` that uses this formula to compute and return an estimate of $\\pi$. It should use a `while` loop to compute terms of the summation until the last term is smaller than `1e-15` (which is Python notation for $10^{−15}$). You can check the result by comparing it to `math.pi`.\n",
    "\n",
    "[Possible solution](http://thinkpython.com/code/pi.py) (give the exercise a try before viewing the solution)"
   ]
  },
  {
   "cell_type": "code",
   "execution_count": 63,
   "metadata": {
    "collapsed": false
   },
   "outputs": [
    {
     "name": "stdout",
     "output_type": "stream",
     "text": [
      "0.318309886184\n"
     ]
    }
   ],
   "source": [
    "import math\n",
    "\n",
    "def estimate_pi():\n",
    "    n = 0\n",
    "    result = 0\n",
    "    temp = 1\n",
    "    while True:\n",
    "        if temp < 10**(-15):\n",
    "            break\n",
    "        temp = (2.0*math.sqrt(2)/9801)*math.factorial(4*n)*(1103 + 26390*n)/((math.factorial(n))**4 * (396 ** (4*n)))\n",
    "        n = n + 1\n",
    "        result = result + temp\n",
    "    \n",
    "    result = 1.0/\n",
    "    print(result)    \n",
    "    \n",
    "estimate_pi()"
   ]
  },
  {
   "cell_type": "markdown",
   "metadata": {},
   "source": [
    "## Reading Journal feedback\n",
    "\n",
    "Have any comments on this Reading Journal? Feel free to leave them below and we'll read them when you submit your journal entry. This could include suggestions to improve the exercises, topics you'd like to see covered in class next time, or other feedback.\n",
    "\n",
    "If you have Python questions or run into problems while completing the reading, you should post them to Piazza instead so you can get a quick response before your journal is submitted."
   ]
  },
  {
   "cell_type": "markdown",
   "metadata": {},
   "source": [
    " "
   ]
  }
 ],
 "metadata": {
  "kernelspec": {
   "display_name": "Python 2",
   "language": "python",
   "name": "python2"
  },
  "language_info": {
   "codemirror_mode": {
    "name": "ipython",
    "version": 2
   },
   "file_extension": ".py",
   "mimetype": "text/x-python",
   "name": "python",
   "nbconvert_exporter": "python",
   "pygments_lexer": "ipython2",
   "version": "2.7.6"
  }
 },
 "nbformat": 4,
 "nbformat_minor": 0
}
