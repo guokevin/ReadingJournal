{
 "cells": [
  {
   "cell_type": "markdown",
   "metadata": {},
   "source": [
    "# Day 10 Reading Journal\n",
    "\n",
    "This journal includes several required exercises, but it is meant to encourage active reading more generally.  You should use the journal to take detailed notes, catalog questions, and explore the content from Think Python deeply.\n",
    "\n",
    "Reading: Think Python Chapter 16, 17\n",
    "\n",
    "**Due: Thursday, February 25 at 12 noon**\n",
    "\n"
   ]
  },
  {
   "cell_type": "markdown",
   "metadata": {},
   "source": [
    "## [Chapter 16](http://www.greenteapress.com/thinkpython/html/thinkpython017.html)\n",
    "\n",
    "### Pure functions\n",
    "- Pure functions take in values and return a value without modifying the objects passed into it\n",
    "\n",
    "### Modifiers\n",
    "- Functions that modify the objects passed into it are called modifiers\n",
    "- Anything done with a modifier can also be done with a pure function\n",
    "\n",
    "### Prototyping versus Planning\n",
    "- Planned development means using deeper understanding of problem to make it simpler\n",
    "- divmod is %\n",
    "- Making a problem more difficult may make it simpler in the long run\n",
    "\n",
    "### Debugging\n",
    "- Invariants are requirements which should always be true and can be tested with other functions"
   ]
  },
  {
   "cell_type": "markdown",
   "metadata": {
    "is_question": true,
    "problem": "Exercise 16.2"
   },
   "source": [
    "### Exercise 2  \n",
    "\n",
    "Write a boolean function called `is_after` that takes two `Time` objects, `t1` and `t2`, and returns `True` if `t1` follows `t2` chronologically and `False` otherwise. Challenge: don’t use an `if` statement. "
   ]
  },
  {
   "cell_type": "code",
   "execution_count": 13,
   "metadata": {
    "collapsed": false,
    "solution": "Exercise 16.2"
   },
   "outputs": [],
   "source": [
    "class Time(object):\n",
    "    pass\n",
    "\n",
    "def to_seconds(time):\n",
    "    return time.hour * 3600 + time.minute * 60 + time.second\n",
    "\n",
    "def is_after(t1,t2):\n",
    "    \"\"\"\n",
    "    >>> is_after(t1,t2)\n",
    "    True\n",
    "    \"\"\"\n",
    "    return to_seconds(t1) > to_seconds(t2)\n",
    "\n",
    "if __name__ == '__main__':\n",
    "    import doctest\n",
    "    t1 = Time()\n",
    "    t2 = Time()\n",
    "    t1.hour = 8\n",
    "    t2.hour = 3\n",
    "    t1.minute = 30\n",
    "    t2.minute = 20\n",
    "    t1.second = 40\n",
    "    t2.second = 50\n",
    "    doctest.testmod()"
   ]
  },
  {
   "cell_type": "markdown",
   "metadata": {},
   "source": [
    "## [Chapter 17](http://www.greenteapress.com/thinkpython/html/thinkpython018.html)\n",
    "\n",
    "In chapter 17 we finally have the tools to really put user-defined classes to work! In the exercises for this reading journal, we'll go back and add methods to your `Point` class from Chapter 15 to make it a lot easier to use.\n",
    "\n",
    "### Object-Oriented Features\n",
    "- In Object-Oriented programming, Programs are made of object and function definitions\n",
    "- Objects are supposed to be models of concepts or things\n",
    "- Methods are defined in class definitions to make the relationship explicit\n",
    "- Syntax for calling and invoking a function is different\n",
    "\n",
    "### Printing Objects\n",
    "- '%.2d' (Time.hour) can be used to print hour\n",
    "- the object the method is being invoked on is called the subject\n",
    "- When writing method inside of object definition, it is better to refer to the object as \"self\"\n",
    "\n",
    "### Another Example\n",
    "- When self is an argument, it assumes the subject is self when the method is invoked\n",
    "\n",
    "### A more complicated example\n",
    "- When invoking a method that takes in self and another object, the other object goes into the input argument\n",
    "\n",
    "### The init method\n",
    "- def \\__init\\__(self, hour = 0)\n",
    "\n",
    "### The \\__str\\__ method\n",
    "- Returns string representtion of object\n",
    "- def \\__str\\__(self):\n",
    "    return self.hour\n",
    " \n",
    "### Operator Overloading\n",
    "- Python can accept \\__(Whatever operator you want)\\__ as a substitute for that.\n",
    "- i.e. \\__add\\__ can be a function for +\n",
    "- Changing the behavior of an operator is called operator overloading\n",
    "\n",
    "### Type-based dispatch\n",
    "- isinstance function checks if a value is an instance of the class (value, class object)\n",
    "- special method \\__radd\\__ adds things right to left?\n",
    "\n",
    "### Polymorphism\n",
    "- Functions that work with multiple types are polymorphic\n",
    "\n",
    "### Debugging\n",
    "- def print_attributes(obj)<br>\n",
    "    for attr in obj.\\__dict\\__:<br>\n",
    "    print attr, getattr(obj, attr)\n",
    "- Traverses each element in an object's dictionary and prints each attribute and its value"
   ]
  },
  {
   "cell_type": "markdown",
   "metadata": {
    "is_question": true,
    "problem": "Exercise 17.2"
   },
   "source": [
    "### Exercise 2  \n",
    "\n",
    "Write an init method for the `Point` class that takes `x` and `y` as optional parameters and assigns them to the corresponding attributes. "
   ]
  },
  {
   "cell_type": "code",
   "execution_count": 15,
   "metadata": {
    "collapsed": false,
    "solution": "Exercise 17.2"
   },
   "outputs": [],
   "source": [
    "def __init__(self,x,y):\n",
    "    self.x = x\n",
    "    self.y = y"
   ]
  },
  {
   "cell_type": "markdown",
   "metadata": {
    "is_question": true,
    "problem": "Exercise 17.3"
   },
   "source": [
    "### Exercise 3  \n",
    "\n",
    "Write a str method for the `Point` class. Create a `Point` object and print it."
   ]
  },
  {
   "cell_type": "code",
   "execution_count": 33,
   "metadata": {
    "collapsed": false,
    "solution": "Exercise 17.3"
   },
   "outputs": [
    {
     "name": "stdout",
     "output_type": "stream",
     "text": [
      "3,4\n"
     ]
    }
   ],
   "source": [
    "class Point(object):\n",
    "    def __str__(self):\n",
    "        return '%.1d,%.1d' % (self.x,self.y)\n",
    "        return \"{},{}\".format(self.x, self.y)\n",
    "\n",
    "pt = Point()\n",
    "pt.x = 3\n",
    "pt.y = 4\n",
    "print pt"
   ]
  },
  {
   "cell_type": "markdown",
   "metadata": {
    "is_question": true,
    "problem": "Exercise 17.4"
   },
   "source": [
    "### Exercise 4  \n",
    "\n",
    "Write an add method for the `Point` class. Optional: implement operator overloading so that you can use the '+' operator."
   ]
  },
  {
   "cell_type": "code",
   "execution_count": 41,
   "metadata": {
    "collapsed": false,
    "solution": "Exercise 17.4"
   },
   "outputs": [
    {
     "name": "stdout",
     "output_type": "stream",
     "text": [
      "7,9\n"
     ]
    }
   ],
   "source": [
    "class Point(object):     \n",
    "    def __str__(self):\n",
    "        return '%.1d,%.1d' % (self.x,self.y)\n",
    "        return \"{},{}\".format(self.x, self.y)\n",
    "\n",
    "    def add(self, other):\n",
    "        p = Point()\n",
    "        p.x = self.x + other.x\n",
    "        p.y = self.y + other.y\n",
    "        return p\n",
    "        \n",
    "    def __add__(self, other):\n",
    "        return self.add(other)\n",
    "    \n",
    "pt1 = Point()\n",
    "pt2 = Point()\n",
    "pt1.x = 3\n",
    "pt1.y = 4\n",
    "pt2.x = 4\n",
    "pt2.y = 5\n",
    "# print pt1.add(pt2)\n",
    "print pt1+pt2"
   ]
  },
  {
   "cell_type": "markdown",
   "metadata": {
    "is_question": true,
    "problem": "Exercise 17.7"
   },
   "source": [
    "### Exercise 7  \n",
    "\n",
    "This exercise is a cautionary tale about one of the most common, and difficult to find, errors in Python. Write a definition for a class named `Kangaroo` with the following methods:\n",
    "\n",
    " 1. An `__init__` method that initializes an attribute named `pouch_contents` to an empty list.\n",
    " 2. A method named `put_in_pouch` that takes an object of any type and adds it to `pouch_contents`.\n",
    " 3. A `__str__` method that returns a string representation of the `Kangaroo` object and the contents of the pouch.\n",
    "\n",
    "Test your code by creating two `Kangaroo` objects, assigning them to variables named `kanga` and `roo`, and then adding `roo` to the contents of `kanga`’s pouch.\n",
    "\n",
    "Download http://thinkpython.com/code/BadKangaroo.py. It contains a solution to the previous problem with one big, nasty bug. Find and fix the bug.\n",
    "\n",
    "If you get stuck, you can download http://thinkpython.com/code/GoodKangaroo.py, which explains the problem and demonstrates a solution. "
   ]
  },
  {
   "cell_type": "code",
   "execution_count": 53,
   "metadata": {
    "collapsed": false,
    "solution": "Exercise 17.7"
   },
   "outputs": [
    {
     "name": "stdout",
     "output_type": "stream",
     "text": [
      "[<__main__.Kangaroo object at 0x7fab74b05fd0>]\n"
     ]
    }
   ],
   "source": [
    "class Kangaroo(object):\n",
    "    def __init__(self, pouch_contents = None):\n",
    "        if pouch_contents == None:\n",
    "            pouch_contents = []\n",
    "        self.pouch_contents = pouch_contents\n",
    "    \n",
    "    def __str__(self):\n",
    "        return object.__str__(self.pouch_contents)\n",
    "    \n",
    "    def put_in_pouch(self, thing):\n",
    "        self.pouch_contents.append(thing)\n",
    "        \n",
    "kanga = Kangaroo([])\n",
    "roo = Kangaroo([])\n",
    "\n",
    "kanga.put_in_pouch(roo)\n",
    "print kanga"
   ]
  },
  {
   "cell_type": "markdown",
   "metadata": {
    "is_question": true,
    "problem": "Time spent"
   },
   "source": [
    "## Quick poll\n",
    "About how long did you spend working on this Reading Journal?"
   ]
  },
  {
   "cell_type": "markdown",
   "metadata": {
    "poll_response": true,
    "solution": "Time spent"
   },
   "source": [
    "2 Hours"
   ]
  },
  {
   "cell_type": "markdown",
   "metadata": {
    "is_question": true,
    "problem": "Feedback"
   },
   "source": [
    "## Reading Journal feedback\n",
    "\n",
    "Have any comments on this Reading Journal? Feel free to leave them below and we'll read them when you submit your journal entry. This could include suggestions to improve the exercises, topics you'd like to see covered in class next time, or other feedback.\n",
    "\n",
    "If you have Python questions or run into problems while completing the reading, you should post them to Piazza instead so you can get a quick response before your journal is submitted."
   ]
  },
  {
   "cell_type": "markdown",
   "metadata": {
    "feedback_response": true,
    "solution": "Feedback"
   },
   "source": [
    " "
   ]
  }
 ],
 "metadata": {
  "celltoolbar": "Edit Metadata",
  "kernelspec": {
   "display_name": "Python 2",
   "language": "python",
   "name": "python2"
  },
  "language_info": {
   "codemirror_mode": {
    "name": "ipython",
    "version": 2
   },
   "file_extension": ".py",
   "mimetype": "text/x-python",
   "name": "python",
   "nbconvert_exporter": "python",
   "pygments_lexer": "ipython2",
   "version": "2.7.6"
  }
 },
 "nbformat": 4,
 "nbformat_minor": 0
}
