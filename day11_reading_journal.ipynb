{
 "cells": [
  {
   "cell_type": "markdown",
   "metadata": {},
   "source": [
    "# Day 11 Reading Journal\n",
    "\n",
    "This journal includes several required exercises, but it is meant to encourage active reading more generally.  You should use the journal to take detailed notes, catalog questions, and explore the content from Think Python deeply.\n",
    "\n",
    "Reading: Review Think Python Chapters 15-17\n",
    "\n",
    "**Due: Monday, February 29 at 12 noon**\n",
    "\n"
   ]
  },
  {
   "cell_type": "markdown",
   "metadata": {},
   "source": [
    "## [Chapter 15](http://www.greenteapress.com/thinkpython/html/thinkpython016.html), [Chapter 16](http://www.greenteapress.com/thinkpython/html/thinkpython017.html), [Chapter 17](http://www.greenteapress.com/thinkpython/html/thinkpython018.html)\n",
    "\n",
    "\n",
    "By the end of chapter 17, we have all the tools we need to create our own user-defined types known as classes. In this reading journal, we're asking you to review and solidify your understanding of this material so we can build on it for the rest of the course. \n",
    "\n",
    "If you didn't get a chance to fully complete the Day 10 reading journal, you may want to do so now."
   ]
  },
  {
   "cell_type": "markdown",
   "metadata": {
    "problem": "Terminology"
   },
   "source": [
    "### Terminology\n",
    "\n",
    "You should be familiar with the following list of terms and concepts. If any of them are unclear to you, re-read, ask, write a definition in your own words, and try an example if appropriate.\n",
    "\n",
    " - class\n",
    " - object\n",
    " - instance\n",
    " - attribute\n",
    " - method\n",
    " - shallow vs deep copying\n",
    " - pure functions vs modifiers\n",
    " - initializing object instances\n",
    " "
   ]
  },
  {
   "cell_type": "markdown",
   "metadata": {
    "is_question": true,
    "problem": "Exercise 1"
   },
   "source": [
    "### Exercise\n",
    "\n",
    "We're going to take the first steps toward writing a calendar application. To keep things simple, we'll restrict ourselves to a single day for now. Write an `Event` class with the following attributes:\n",
    "\n",
    " - `name`  : Title for the `Event`\n",
    " - `start` : `Time` object representing the start time for the `Event`\n",
    " - `end`   : `Time` object representing the end time for the `Event`\n",
    "\n",
    "You can also augment your `Event` class with additional attributes, such as location and attendees.\n",
    "\n",
    "Write `__init__` and `__str__` methods for your `Event` class."
   ]
  },
  {
   "cell_type": "code",
   "execution_count": 71,
   "metadata": {
    "collapsed": false,
    "solution": "Exercise 1"
   },
   "outputs": [
    {
     "name": "stdout",
     "output_type": "stream",
     "text": [
      "new2: 03:05:07-05:06:08\n",
      "new1: 05:06:07-06:07:08\n",
      "new3: 09:10:11-10:11:12\n",
      "False\n"
     ]
    }
   ],
   "source": [
    "class Event(object):\n",
    "    def __init__(self, name, start, end):\n",
    "        self.name = name\n",
    "        self.start = start\n",
    "        self.end = end\n",
    "        \n",
    "    def __str__(self):\n",
    "        return \"{}: {}-{}\" .format(self.name, self.start, self.end)\n",
    "      \n",
    "    def duration(self):\n",
    "        return self.start - self.end\n",
    "    \n",
    "class Time(object):\n",
    "    def __init__(self, hour, minute, second):\n",
    "        self.hour = hour\n",
    "        self.minute = minute\n",
    "        self.second = second\n",
    "    \n",
    "    def __str__(self):\n",
    "        return \"%.2d:%.2d:%.2d\" % (self.hour, self.minute, self.second)\n",
    "    \n",
    "    def to_seconds(self):\n",
    "        return self.hour * 3600 + self.minute * 60 + self.second\n",
    "    \n",
    "    def sec_to_min(self,seconds):\n",
    "        minute, second = divmod(seconds,60)\n",
    "        return minute\n",
    "    \n",
    "    def is_before(self, other):\n",
    "        \"\"\"\n",
    "        Tests if one time is before another\n",
    "        \"\"\"\n",
    "        return self.to_seconds() < other.to_seconds()\n",
    "    \n",
    "    def __sub__(self, other):\n",
    "        \"\"\"\n",
    "        Overrides subtract operator\n",
    "        \"\"\"\n",
    "        return self.sec_to_min(int(math.fabs(self.to_seconds() - other.to_seconds())))\n",
    "        \n",
    "class Agenda(object):\n",
    "    def __init__(self,event_list=None):\n",
    "        if event_list == None:\n",
    "            event_list = []\n",
    "            \n",
    "        self.event_list = event_list\n",
    "    \n",
    "    def add_event(self, item):\n",
    "        self.event_list.append(item)\n",
    "        \n",
    "    def print_agenda(self):\n",
    "        sorted_agenda = self.sort_agenda()\n",
    "        for event in sorted_agenda:\n",
    "            print event\n",
    "            \n",
    "    def sort_agenda(self):\n",
    "        \"\"\"\n",
    "        sort agenda by time\n",
    "        \"\"\"\n",
    "        return sorted(self.event_list, key = lambda x: x.start.to_seconds())\n",
    "    \n",
    "    def is_feasible(self):\n",
    "        agenda = self.sort_agenda()\n",
    "        for i in range(len(agenda)-1):\n",
    "            if(agenda[i].end.to_seconds() > agenda[i+1].start.to_seconds()):\n",
    "                return False\n",
    "        return True\n",
    "    \n",
    "if __name__ == '__main__':\n",
    "    import operator\n",
    "    import math\n",
    "    a = Time(5,6,7)\n",
    "    b = Time(6,7,8)\n",
    "    c = Time(3,5,7)\n",
    "    d = Time(5,6,8)\n",
    "    e = Time(9,10,11)\n",
    "    f = Time(10,11,12)\n",
    "\n",
    "    e1 = Event('new1',a,b)\n",
    "    e2 = Event('new2',c,d)\n",
    "    e3 = Event('new3',e,f)\n",
    "#     print e.duration()  \n",
    "    today = Agenda([])\n",
    "    today.add_event(e1)\n",
    "    today.add_event(e2)\n",
    "    today.add_event(e3)\n",
    "    today.print_agenda()\n",
    "    print today.is_feasible()"
   ]
  },
  {
   "cell_type": "markdown",
   "metadata": {
    "is_question": true,
    "problem": "Exercise 2"
   },
   "source": [
    "### Exercise\n",
    "\n",
    "Write a `duration` method that returns the duration of the `Event` in minutes."
   ]
  },
  {
   "cell_type": "code",
   "execution_count": null,
   "metadata": {
    "collapsed": true,
    "solution": "Exercise 2"
   },
   "outputs": [],
   "source": []
  },
  {
   "cell_type": "markdown",
   "metadata": {
    "is_question": true,
    "problem": "Exercise 3"
   },
   "source": [
    "### Exercise\n",
    "\n",
    "Write an `Agenda` class that contains several `Event`s for the day.\n",
    "\n",
    "**Quick check: ** How should you store `Event`s within your `Agenda` class?\n",
    "\n",
    "Events should be stored in a tuple\n",
    "\n",
    "Your `Agenda` class should include a `print_agenda` method that prints out your schedule for the day, in order.\n",
    "\n",
    "**Optional:** Include a `is_feasible` method that returns `True` if your schedule has no time conflicts. You may want to write additional helper methods for the `Event` class to make this easier."
   ]
  },
  {
   "cell_type": "code",
   "execution_count": null,
   "metadata": {
    "collapsed": true,
    "solution": "Exercise 3"
   },
   "outputs": [],
   "source": []
  },
  {
   "cell_type": "markdown",
   "metadata": {
    "is_question": true,
    "problem": "Exercise 4"
   },
   "source": [
    "### Going Beyond (optional)\n",
    "\n",
    "Some ideas for taking your application further:\n",
    " - Add people and/or places to the mix to create a scheduling assistant\n",
    " - Extend support for day-of-week or full date. A word of warning: dealing with dates and times in real applications is difficult due to the huge number of special cases (Perfect example: this reading journal is due on Leap Day). Consider using something like the Python [datetime](https://docs.python.org/2/library/datetime.html) module.\n",
    " - Use pickle or some other persistence strategy to save and load your `Agenda`."
   ]
  },
  {
   "cell_type": "code",
   "execution_count": null,
   "metadata": {
    "collapsed": true,
    "solution": "Exercise 4"
   },
   "outputs": [],
   "source": []
  },
  {
   "cell_type": "markdown",
   "metadata": {
    "is_poll": true,
    "is_question": true,
    "problem": "Time spent"
   },
   "source": [
    "## Quick poll\n",
    "About how long did you spend working on this Reading Journal?"
   ]
  },
  {
   "cell_type": "markdown",
   "metadata": {
    "poll_response": true,
    "solution": "Time spent"
   },
   "source": [
    "1.5 Hours\n"
   ]
  },
  {
   "cell_type": "markdown",
   "metadata": {
    "is_question": true,
    "problem": "Feedback"
   },
   "source": [
    "## Reading Journal feedback\n",
    "\n",
    "Have any comments on this Reading Journal? Feel free to leave them below and we'll read them when you submit your journal entry. This could include suggestions to improve the exercises, topics you'd like to see covered in class next time, or other feedback.\n",
    "\n",
    "If you have Python questions or run into problems while completing the reading, you should post them to Piazza instead so you can get a quick response before your journal is submitted."
   ]
  },
  {
   "cell_type": "markdown",
   "metadata": {
    "feedback_response": true,
    "solution": "Feedback"
   },
   "source": [
    " "
   ]
  }
 ],
 "metadata": {
  "celltoolbar": "Edit Metadata",
  "kernelspec": {
   "display_name": "Python 2",
   "language": "python",
   "name": "python2"
  },
  "language_info": {
   "codemirror_mode": {
    "name": "ipython",
    "version": 2
   },
   "file_extension": ".py",
   "mimetype": "text/x-python",
   "name": "python",
   "nbconvert_exporter": "python",
   "pygments_lexer": "ipython2",
   "version": "2.7.6"
  }
 },
 "nbformat": 4,
 "nbformat_minor": 0
}
