{
 "cells": [
  {
   "cell_type": "markdown",
   "metadata": {},
   "source": [
    "# Day 7 Reading Journal\n",
    "\n",
    "This journal includes several required exercises, but it is meant to encourage active reading more generally.  You should use the journal to take detailed notes, catalog questions, and explore the content from Think Python deeply.\n",
    "\n",
    "Reading: Think Python Chapter 11, 12\n",
    "\n",
    "**Due: Thursday, February 18 at 12 noon**\n",
    "\n"
   ]
  },
  {
   "cell_type": "markdown",
   "metadata": {},
   "source": [
    "## [Chapter 11](http://www.greenteapress.com/thinkpython/html/thinkpython012.html)\n",
    "\n",
    "### Dictionaries\n",
    "\n",
    "-new_dict = dict()\n",
    "\n",
    "-new_dict[one] = 'fdff'\n",
    "\n",
    "-new_dict = {'bug': 'bee', 'tree':, 'maple'}\n",
    "\n",
    "-new_dict.values() returns all values of dictionary\n",
    "\n",
    "-in function works only for keys\n",
    "\n",
    "### Reverse Lookup\n",
    "\n",
    "-Lists can be values in a dictionary but not keys\n",
    "\n",
    "-Dictionaries are implemented with hashtable, meaning keys need to be hashable\n",
    "<br>\n",
    "\n",
    "-Hash is value that takes any value and returns integer\n",
    "\n",
    "    -Key can't be mutable to avoid errors\n",
    "    \n",
    "### Global Variables\n",
    "\n",
    "-Need to declare global variable inside a function if referring to it\n",
    "\n",
    "-No need to declare global if value is mutable\n",
    "\n",
    "### Long Integers\n",
    "\n",
    "-Python two converts long integers to type Long\n",
    "\n",
    "### Debugging\n",
    "\n",
    "-Reduce input size\n",
    "\n",
    "-Print types of values instead of individual values to check for consistencies\n",
    "\n",
    "-Write Self-checks\n",
    "\n",
    "-pprint"
   ]
  },
  {
   "cell_type": "markdown",
   "metadata": {},
   "source": [
    "**Quick check:** In about one sentence using your own words, what is a dictionary?"
   ]
  },
  {
   "cell_type": "markdown",
   "metadata": {},
   "source": [
    "A dictionary is a way of mapping items to values of almost any type"
   ]
  },
  {
   "cell_type": "markdown",
   "metadata": {
    "is_question": true,
    "problem": "Exercise 11.2"
   },
   "source": [
    "### Exercise 2  \n",
    "\n",
    "Dictionaries have a [method called `get`](https://docs.python.org/2/library/stdtypes.html#mapping-types-dict) that takes a key and a default value. If the key appears in the dictionary, `get` returns the corresponding value; otherwise it returns the default value. For example:\n",
    "\n",
    "```\n",
    ">>> h = histogram('a')\n",
    ">>> print h\n",
    "{'a': 1}\n",
    ">>> h.get('a', 0)\n",
    "1\n",
    ">>> h.get('b', 0)\n",
    "0\n",
    "```\n",
    "\n",
    "Use `get` to write `histogram` more concisely. You should be able to eliminate the `if` statement. Add unit tests for your histogram implementation."
   ]
  },
  {
   "cell_type": "code",
   "execution_count": 11,
   "metadata": {
    "collapsed": false,
    "solution": "Exercise 11.2"
   },
   "outputs": [
    {
     "data": {
      "text/plain": [
       "{'c': 1, 'e': 1, 'h': 1, 's': 2}"
      ]
     },
     "execution_count": 11,
     "metadata": {},
     "output_type": "execute_result"
    }
   ],
   "source": [
    "import doctest\n",
    "\n",
    "def histogram(s):\n",
    "    \"\"\"\n",
    "    >>>histogram('chess')\n",
    "    {'c': 1, 'e': 1, 'h': 1, 's': 2}\n",
    "    >>>histogram('')\n",
    "    {}\n",
    "    \"\"\"\n",
    "    d = dict()\n",
    "    \n",
    "    for c in s:\n",
    "        d[c] = d.get(c,0) + 1\n",
    "        \n",
    "    return d\n",
    "\n",
    "\n",
    "histogram('chess')"
   ]
  },
  {
   "cell_type": "markdown",
   "metadata": {
    "is_question": true,
    "problem": "Exercise 11.4"
   },
   "source": [
    "### Exercise 4  \n",
    "\n",
    "Modify `reverse_lookup` so that it builds and returns a list of all keys that map to `v`, or an empty list if there are none. Add unit tests for your implementation."
   ]
  },
  {
   "cell_type": "code",
   "execution_count": 27,
   "metadata": {
    "collapsed": false,
    "solution": "Exercise 11.4"
   },
   "outputs": [
    {
     "data": {
      "text/plain": [
       "['c', 'e', 'h']"
      ]
     },
     "execution_count": 27,
     "metadata": {},
     "output_type": "execute_result"
    }
   ],
   "source": [
    "def reverse_lookup(d, v):\n",
    "    \"\"\"\n",
    "    >>>reverse_lookup({'c': 1, 'e': 1, 'h': 1, 's': 2}, 1)\n",
    "    ['c','e','h']\n",
    "    >>>reverse_lookup({'c': 1, 'e': 1, 'h': 1, 's': 2}, 2)\n",
    "    ['s']\n",
    "    \"\"\"\n",
    "    l = []\n",
    "    \n",
    "    for k in d:\n",
    "        if d[k] == v:\n",
    "          l.append(k)\n",
    "    l.sort()\n",
    "    return l\n",
    "    raise ValueError\n",
    "    \n",
    "reverse_lookup({'c': 1, 'e': 1, 'h': 1, 's': 2}, 1)"
   ]
  },
  {
   "cell_type": "markdown",
   "metadata": {},
   "source": [
    "If you'd like to learn more about errors and exceptions, you can check out the [Python tutorial](https://docs.python.org/2/tutorial/errors.html) or read ahead to [Appendix A](http://www.greenteapress.com/thinkpython/html/thinkpython021.html) of Think Python. If you choose to use doctest for your unit testing, it can also [deal with exceptions](https://docs.python.org/2/library/doctest.html#what-about-exceptions)."
   ]
  },
  {
   "cell_type": "markdown",
   "metadata": {},
   "source": [
    "**Quick check** What type of objects can be used as keys to a dictionary, i.e. what property must they have?"
   ]
  },
  {
   "cell_type": "markdown",
   "metadata": {},
   "source": [
    "They must immutable"
   ]
  },
  {
   "cell_type": "markdown",
   "metadata": {
    "is_question": true,
    "problem": "Exercise 11.6"
   },
   "source": [
    "### Exercise 6 (modified)\n",
    "\n",
    "Create a memoized version of your Levenshtein distance function from Day 7. What kind of performance change do you see?\n",
    "\n",
    "Optional: If you'd like to get some quantitative results, you could check out the [timeit](https://docs.python.org/2/library/timeit.html) module\n",
    "\n",
    "Note: You can also study Fibonacci here if you prefer."
   ]
  },
  {
   "cell_type": "code",
   "execution_count": 45,
   "metadata": {
    "collapsed": false,
    "solution": "Exercise 11.6"
   },
   "outputs": [
    {
     "name": "stdout",
     "output_type": "stream",
     "text": [
      "10\n"
     ]
    }
   ],
   "source": [
    "def levenshtein_distance(a,b,dic):\n",
    "    known = dic\n",
    "    temp = str(len(a)) + str(len(b))\n",
    "\n",
    "    if(temp in known):\n",
    "        return known[temp]\n",
    "    \n",
    "    #base case\n",
    "    if(a == ''):\n",
    "        known[temp] = len(b)\n",
    "        return len(b)\n",
    "        \n",
    "    if(b == ''):\n",
    "        known[temp] = len(a)\n",
    "        return len(a)\n",
    "    \n",
    "    if(a[0] == b[0]):\n",
    "        option1 = levenshtein_distance(a[1:], b[1:],known)\n",
    "    else:\n",
    "        option1 = levenshtein_distance(a[1:], b[1:],known) + 1\n",
    "        \n",
    "    option2 = levenshtein_distance(a, b[1:],known) + 1 \n",
    "    option3 = levenshtein_distance(a[1:], b,known) + 1\n",
    "    \n",
    "    minimum = min([option1,option2,option3])\n",
    "    known[temp] = minimum\n",
    "    return minimum\n",
    "\n",
    "diction = dict()\n",
    "print levenshtein_distance('apple','applefdffaddsaf',diction)"
   ]
  },
  {
   "cell_type": "markdown",
   "metadata": {},
   "source": [
    "## [Chapter 12](http://www.greenteapress.com/thinkpython/html/thinkpython013.html)\n",
    "\n",
    "### Tuples are immutable\n",
    "\n",
    "-t = ('a','b','c','d')\n",
    "\n",
    "-A tuple is a list of values that is immutable\n",
    "\n",
    "### Tuple Assignment\n",
    "\n",
    "-Swapping two values using tuples-- a, b = b,a\n",
    "\n",
    "### Variable-length argument tuples\n",
    "\n",
    "-A parameter name that begins with *gathers* arguments into tuple\n",
    "\n",
    "-Scatter inputs a tuple into a function as multiple arguments\n",
    "\n",
    "### Lists and Tuples\n",
    "\n",
    "-zip combines two sequences into a tuple\n",
    "\n",
    "-Zip two sequences of unequal lengths. Takes shorter sequence length\n",
    "\n",
    "-for index, element in enumerate('abc'):\n",
    "<br>print index, element\n",
    "\n",
    "### Dictionaries and Tuples\n",
    "\n",
    "-tuple.items() gives list of tuples\n",
    "\n",
    "-Combine dict with zip to create a nice dictionary\n",
    "\n",
    "-Use tuple as a key in the dictionary\n",
    "\n",
    "### Comparing Tuples\n",
    "\n",
    "-Use compare operations\n",
    "\n",
    "-Tuples are sorted by Decorate, Sort, Undecorate\n",
    "\n",
    "    -Build a list of tuples\n",
    "    \n",
    "    -Sort list of tuples\n",
    "    \n",
    "    -Extract sorted elements of sequence\n",
    "\n",
    "### Sequences of Sequences\n",
    "\n",
    "-You can create sequences of any other sequences\n",
    "\n",
    "-Tuples reduce errors from aliasing when passing into a function\n",
    "\n",
    "-structshape groups element of list in order of type\n"
   ]
  },
  {
   "cell_type": "markdown",
   "metadata": {},
   "source": [
    "**Quick check:** In about one sentence using your own words, what is a tuple? \n",
    "\n",
    "A Tuple is a list that is immutable and can be used as a key in dictionaries"
   ]
  },
  {
   "cell_type": "markdown",
   "metadata": {
    "is_question": true,
    "problem": "Exercise 12.1"
   },
   "source": [
    "### Exercise 1  \n",
    "\n",
    "Many of the built-in functions use variable-length argument tuples. For example, `max` and `min` can take any number of arguments:\n",
    "\n",
    "```\n",
    ">>> max(1,2,3)\n",
    "3\n",
    "```\n",
    "\n",
    "But `sum` does not.\n",
    "\n",
    "```\n",
    ">>> sum(1,2,3)\n",
    "TypeError: sum expected at most 2 arguments, got 3\n",
    "```\n",
    "\n",
    "Write a function called ```sumall``` that takes any number of arguments and returns their sum. \n",
    "\n",
    "Write unit tests for your function. Do I actually need to keep saying this? Let's assume it's always a good idea :)"
   ]
  },
  {
   "cell_type": "code",
   "execution_count": 51,
   "metadata": {
    "collapsed": false,
    "solution": "Exercise 12.1"
   },
   "outputs": [
    {
     "data": {
      "text/plain": [
       "32"
      ]
     },
     "execution_count": 51,
     "metadata": {},
     "output_type": "execute_result"
    }
   ],
   "source": [
    "def sumall(*arg):\n",
    "    \"\"\"\n",
    "    >>>sumall(1,2):\n",
    "    3\n",
    "    >>>sumall(1,2,3,4):\n",
    "    10\n",
    "    >>>sumall(0,0,0):\n",
    "    0\n",
    "    \"\"\"\n",
    "    return sum(arg)\n",
    "\n",
    "sumall(3,4,5,6,7,3,2,2)"
   ]
  },
  {
   "cell_type": "markdown",
   "metadata": {},
   "source": [
    "If you're interested in more flexible ways to pass arguments to functions, check out the [Python tutorial](https://docs.python.org/2/tutorial/controlflow.html#more-on-defining-functions). For instance, you can also use keyword arguments, which are collected into a dictionary just like `*` gathers variable numbers of positional arguments into a tuple.\n",
    "\n",
    "This pattern is very common for defining functions with complex optional behaviors in Python, and you will often see definitions like:\n",
    "\n",
    "```\n",
    "def my_func(required_argument1, *arguments, **keywords):\n",
    "    ...\n",
    "```"
   ]
  },
  {
   "cell_type": "markdown",
   "metadata": {
    "is_question": true,
    "problem": "Exercise 12 sort"
   },
   "source": [
    "### Exercise\n",
    "\n",
    "Write a function `sort_by_last_letter` that takes a list of words and returns a new list with the words sorted alphabetically by the _last letter_ in the word. Hint: use the **Decorate, Sort, Undecorate** pattern. Write unit tests for your function."
   ]
  },
  {
   "cell_type": "code",
   "execution_count": 73,
   "metadata": {
    "collapsed": false,
    "solution": "Exercise 12 sort"
   },
   "outputs": [
    {
     "name": "stdout",
     "output_type": "stream",
     "text": [
      "[('b', 'bob'), ('e', 'tree'), ('s', 'chess'), ('t', 'ant')]\n"
     ]
    },
    {
     "data": {
      "text/plain": [
       "['bob', 'tree', 'chess', 'ant']"
      ]
     },
     "execution_count": 73,
     "metadata": {},
     "output_type": "execute_result"
    }
   ],
   "source": [
    "def sort_by_last_letter(a):\n",
    "    \"\"\"\n",
    "    >>>sort_by_last_letter(['bob','ant','tree','chess'])\n",
    "    ['bob', 'tree', 'chess', 'ant']\n",
    "    \"\"\"\n",
    "    b = []\n",
    "    for x in a:\n",
    "        b.append((x[-1],x))\n",
    "        \n",
    "    b.sort()\n",
    "    \n",
    "    a= []\n",
    "    for x,y in b:\n",
    "        a.append(y)\n",
    "    return a\n",
    "\n",
    "sort_by_last_letter(['bob','ant','tree','chess'])"
   ]
  },
  {
   "cell_type": "markdown",
   "metadata": {},
   "source": [
    "**Quick check** Give an example of when you might use each sequence type:\n",
    "\n",
    "- tuple\n",
    "\n",
    "- list\n",
    "\n",
    "- string"
   ]
  },
  {
   "cell_type": "markdown",
   "metadata": {},
   "source": [
    "Tuple: Index of a dictionary\n",
    "\n",
    "List: Need a mutable data structure like counting\n",
    "\n",
    "String: You want an immutable data type that can be modified with new references"
   ]
  },
  {
   "cell_type": "markdown",
   "metadata": {
    "is_question": true,
    "problem": "Exercise 12.3"
   },
   "source": [
    "### Exercise 3  \n",
    "\n",
    "Write a function called `most_frequent` that takes a string and prints the letters in decreasing order of frequency. Find text samples from several different languages and see how letter frequency varies between languages. Compare your results with the tables at http://en.wikipedia.org/wiki/Letter_frequencies. \n",
    "\n",
    "Allen's solution (try it on your own first): http://thinkpython.com/code/most_frequent.py. "
   ]
  },
  {
   "cell_type": "code",
   "execution_count": 84,
   "metadata": {
    "collapsed": false,
    "solution": "Exercise 12.3"
   },
   "outputs": [
    {
     "data": {
      "text/plain": [
       "['f', 'e', 's', 'd', 'a']"
      ]
     },
     "execution_count": 84,
     "metadata": {},
     "output_type": "execute_result"
    }
   ],
   "source": [
    "def most_frequent(s):\n",
    "    a = histogram(s)\n",
    "\n",
    "    b = []\n",
    "    for x,y in a.iteritems():\n",
    "        b.append((y,x))\n",
    "        \n",
    "    b.sort(reverse=True)\n",
    "    \n",
    "    a = []\n",
    "    for x,y in b:\n",
    "        a.append(y)\n",
    "    return a\n",
    "\n",
    "most_frequent('asdfefe')"
   ]
  },
  {
   "cell_type": "markdown",
   "metadata": {
    "is_question": true,
    "problem": "Exercise 12.6"
   },
   "source": [
    "### Challenge: Exercise 6   (optional)\n",
    "\n",
    "From a [Car Talk Puzzler](http://www.cartalk.com/content/puzzlers):\n",
    "\n",
    "What is the longest English word, that remains a valid English word, as you remove its letters one at a time?\n",
    "\n",
    "Now, letters can be removed from either end, or the middle, but you can’t rearrange any of the letters. Every time you drop a letter, you wind up with another English word. If you do that, you’re eventually going to wind up with one letter and that too is going to be an English word—one that’s found in the dictionary. I want to know what’s the longest word and how many letters does it have?\n",
    "\n",
    "I’m going to give you a little modest example: Sprite. Ok? You start off with sprite, you take a letter off, one from the interior of the word, take the r away, and we’re left with the word spite, then we take the e off the end, we’re left with spit, we take the s off, we’re left with pit, it, and I. \n",
    "\n",
    "Write a program to find all words that can be reduced in this way, and then find the longest one.\n",
    "\n",
    "This exercise is a little more challenging than most, so here are some suggestions:\n",
    "\n",
    "- You might want to write a function that takes a word and computes a list of all the words that can be formed by removing one letter. These are the “children” of the word.\n",
    "- Recursively, a word is reducible if any of its children are reducible. As a base case, you can consider the empty string reducible.\n",
    "- The word list from [Chapter 9.1](http://www.greenteapress.com/thinkpython/html/thinkpython010.html) Exercise 1 doesn’t contain single letter words. So you might want to add “I”, “a”, and the empty string.\n",
    "- To improve the performance of your program, you might want to memoize the words that are known to be reducible.\n",
    "\n",
    "Allen's solution: http://thinkpython.com/code/reducible.py."
   ]
  },
  {
   "cell_type": "code",
   "execution_count": null,
   "metadata": {
    "collapsed": true,
    "solution": "Exercise 12.6"
   },
   "outputs": [],
   "source": []
  },
  {
   "cell_type": "markdown",
   "metadata": {
    "is_question": true,
    "problem": "Feedback"
   },
   "source": [
    "## Reading Journal feedback\n",
    "\n",
    "Have any comments on this Reading Journal? Feel free to leave them below and we'll read them when you submit your journal entry. This could include suggestions to improve the exercises, topics you'd like to see covered in class next time, or other feedback.\n",
    "\n",
    "If you have Python questions or run into problems while completing the reading, you should post them to Piazza instead so you can get a quick response before your journal is submitted."
   ]
  },
  {
   "cell_type": "markdown",
   "metadata": {
    "feedback_response": true,
    "solution": "Feedback"
   },
   "source": [
    " "
   ]
  }
 ],
 "metadata": {
  "celltoolbar": "Edit Metadata",
  "kernelspec": {
   "display_name": "Python 2",
   "language": "python",
   "name": "python2"
  },
  "language_info": {
   "codemirror_mode": {
    "name": "ipython",
    "version": 2
   },
   "file_extension": ".py",
   "mimetype": "text/x-python",
   "name": "python",
   "nbconvert_exporter": "python",
   "pygments_lexer": "ipython2",
   "version": "2.7.6"
  }
 },
 "nbformat": 4,
 "nbformat_minor": 0
}
