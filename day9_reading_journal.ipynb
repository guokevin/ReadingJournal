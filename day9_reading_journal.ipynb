{
 "cells": [
  {
   "cell_type": "markdown",
   "metadata": {},
   "source": [
    "# Day 9 Reading Journal\n",
    "\n",
    "This journal includes several required exercises, but it is meant to encourage active reading more generally.  You should use the journal to take detailed notes, catalog questions, and explore the content from Think Python deeply.\n",
    "\n",
    "Reading: Think Python Chapter 13, 15\n",
    "\n",
    "**Due: Monday, February 22 at 12 noon**\n",
    "\n"
   ]
  },
  {
   "cell_type": "markdown",
   "metadata": {},
   "source": [
    "## [Chapter 13](http://www.greenteapress.com/thinkpython/html/thinkpython014.html)\n",
    "\n",
    "The content in this chapter could be very helpful for the text mining mini project. The reading and all exercises within are optional.\n",
    "\n",
    " - Section 13.3-4 gives a good example of some techniques for working with files, processing text, and doing some simple analysis. \n",
    " - Section 13.8 and the Markov generation in Exercise 8 can be a lot of fun. \n",
    " - Now that you know a wide range of different data structures, Section 13.9 starts to give some guidance for choosing between them\n",
    " - Section 13.10 explains Allen's \"4 r's\" of debugging strategy\n",
    " \n",
    "### Random Numbers\n",
    "\n",
    "- Deterministic Output means program generates same output every time\n",
    "- Pseudorandom output means program generates seemingly random output even though it is deterministic\n",
    "- random.random() return value between 0.0 and 1.0\n",
    "- random.randint(lo,hi)\n",
    "- random.choice(t)\n",
    "\n",
    "### Optional Parameters\n",
    "\n",
    "- def funct(num = 10) sets default of num to 10 if no argument\n",
    "\n",
    "### Dictionary Subtraction\n",
    "\n",
    "- set tests for comparisons between hashable objects\n",
    "\n",
    "### Random Words\n",
    "\n",
    "- Make more efficient by building list once and then selecting multiple words\n",
    "\n",
    "### Markov Analysis\n",
    "\n",
    "- Use Markov analysis to tell what the next word in a sequence should be based on a text's patterns\n",
    "\n",
    "### Data Structures\n",
    "\n",
    "- Use a dictionary with tuple keywords. You can create a new tuple built upon the old tuple with a function\n",
    "- Implementation depends on run time and memory"
   ]
  },
  {
   "cell_type": "code",
   "execution_count": 14,
   "metadata": {
    "collapsed": false
   },
   "outputs": [
    {
     "name": "stdout",
     "output_type": "stream",
     "text": [
      "\n"
     ]
    }
   ],
   "source": [
    "from pattern.web import *\n",
    "\n",
    "import string\n",
    "\n",
    "oliver_twist_full_text = URL('http://www.gutenberg.org/cache/epub/98/pg98.txt').download()\n",
    "# print oliver_twist_full_text\n",
    "print ''\n",
    "\n",
    "# f = open(\"text.txt\")\n",
    "# for line in f:\n",
    "#     print line"
   ]
  },
  {
   "cell_type": "markdown",
   "metadata": {},
   "source": [
    "## [Chapter 15](http://www.greenteapress.com/thinkpython/html/thinkpython016.html)\n",
    "\n",
    "This chapter has very few (and short) exercises, and is more focused on starting to think about classes and objects. If you haven't seen user defined types like classes before, you should read closely and try out some examples on your own. For example, you can write a [Python Tutor example like this one](http://pythontutor.com/visualize.html#code=%23+Example+for+visualizing+object+diagrams+by+stepping+through+the+code%0A%0Aclass+Point(object%29%3A%0A++++%22%22%22Represents+a+point+in+2-D+space.%22%22%22%0A++++pass%0A%0Aclass+Rectangle(object%29%3A%0A++++%22%22%22Represents+a+rectangle.+%0A%0A++++attributes%3A+width,+height,+corner.%0A++++%22%22%22%0A++++pass%0A%0A%0A%23+Create+a+point+to+serve+as+origin+for+our+rectangles%0Ap+%3D+Point(%29%0Ap.x+%3D+10%0Ap.y+%3D+15%0A%0A%23+Create+two+rectangles+with+different+size%0Ar1+%3D+Rectangle(%29%0Ar1.corner+%3D+p%0Ar1.width+%3D+100%0Ar1.height+%3D+100%0A%0Ar2+%3D+Rectangle(%29%0Ar2.corner+%3D+p%0Ar2.width+%3D+50%0Ar2.height+%3D+200%0A%0A%23+Change+the+width+of+r2+-+what+(if+any%29+is+the+effect+on+r1+and+why%3F%0Ar2.width+%3D+150%0Aprint+r1.width%0A%0A%23+Change+the+corner+position+of+r1+-+what+(if+any%29+is+the+effect+on+r2+and+why%3F%0Ar1.corner.x+%3D+20%0Aprint+r2.corner.x&mode=display&origin=opt-frontend.js&cumulative=false&heapPrimitives=false&textReferences=false&py=2&rawInputLstJSON=%5B%5D&curInstr=0) to explore object diagrams and aliasing.\n",
    "\n",
    "**Note**: The sequence of operations we use in this chapter to create class instances and assign their attributes, e.g. \n",
    "\n",
    "```\n",
    "box = Rectangle()\n",
    "box.width = 100.0\n",
    "box.height = 200.0\n",
    "box.corner = Point()\n",
    "box.corner.x = 0.0\n",
    "box.corner.y = 0.0\n",
    "```\n",
    "\n",
    "is somewhat clumsy and error prone. Things will get better in the next couple chapters; feel free to look ahead if you'd like a sneak preview.\n",
    "\n",
    "\n",
    "### User-Defined Types\n",
    "- class Point(object) <-- Create a class \"Point\" that is of type object\n",
    "- You can create multiple instances of a class\n",
    "\n",
    "### Attributes\n",
    "- dot notation (e.g. blank.x) assigns values to named elements of an object\n",
    "- use dot notation to create values for the object you created\n",
    "\n",
    "### Rectangles\n",
    "- You can create classes with variables inside a class\n",
    "- An object that is an attribute of another is \"embedded\"\n",
    "\n",
    "### Instances as Return Values\n",
    "- Functions can return instances of an object\n",
    "\n",
    "### Objects are Mutable\n",
    "- You can modify attributes by changing box.width = 30\n",
    "- You can do this within functions\n",
    "- Inside a function, the parameter is aliased so changing that parameter changes the object passed in\n",
    "\n",
    "### Copying\n",
    "\n",
    "import copy<br>\n",
    "p2 = copy.copy(p1)\n",
    "\n",
    "- p1 and p2 contain the same data but aren't the same point\n",
    "- == checks for object identity not equivalency\n",
    "- copy creates a shallow copy that copies objects and references but not embedded objects\n",
    "- copy.deepcopy results in copying of references to embedded objects"
   ]
  },
  {
   "cell_type": "markdown",
   "metadata": {},
   "source": [
    "**Quick check:** In about one sentence using your own words, what is a class?"
   ]
  },
  {
   "cell_type": "markdown",
   "metadata": {},
   "source": [
    "A class is a type of variable which is created by the user that has its own functions and methods "
   ]
  },
  {
   "cell_type": "markdown",
   "metadata": {
    "is_question": true,
    "problem": "Exercise 15.1"
   },
   "source": [
    "### Exercise 1  \n",
    "\n",
    "Write a function called `distance_between_points` that takes two `Points` as arguments and returns the distance between them."
   ]
  },
  {
   "cell_type": "code",
   "execution_count": 1,
   "metadata": {
    "collapsed": false,
    "solution": "Exercise 15.1"
   },
   "outputs": [
    {
     "name": "stdout",
     "output_type": "stream",
     "text": [
      "13.6014705087\n"
     ]
    }
   ],
   "source": [
    "import math\n",
    "\n",
    "class Point(object):\n",
    "    def points():\n",
    "        pass\n",
    "    \n",
    "def distance_between_points(a,b):\n",
    "    return (math.sqrt((a.x+b.x)**2 + (a.y + b.y)**2))\n",
    "\n",
    "p1 = Point()\n",
    "p1.x = 1\n",
    "p1.y = 3\n",
    "\n",
    "p2 = Point()\n",
    "p2.x = 3\n",
    "p2.y = 10\n",
    "\n",
    "print distance_between_points(p1,p2)"
   ]
  },
  {
   "cell_type": "markdown",
   "metadata": {
    "is_question": true,
    "problem": "Exercise 15.2"
   },
   "source": [
    "### Exercise 2  \n",
    "\n",
    "Write a function named `move_rectangle` that takes a `Rectangle` and two numbers named `dx` and `dy`. It should change the location of the rectangle by adding `dx` to the `x` coordinate of `corner` and adding `dy` to the `y` coordinate of `corner`."
   ]
  },
  {
   "cell_type": "code",
   "execution_count": 8,
   "metadata": {
    "collapsed": false,
    "solution": "Exercise 15.2"
   },
   "outputs": [
    {
     "name": "stdout",
     "output_type": "stream",
     "text": [
      "3 4\n"
     ]
    }
   ],
   "source": [
    "class Rectangle(object):\n",
    "    def points():\n",
    "        pass\n",
    "    \n",
    "def move_rectangle(Rectangle, dx,dy):\n",
    "    Rectangle.corner1.x += dx\n",
    "    Rectangle.corner1.y += dy\n",
    "    \n",
    "r = Rectangle()\n",
    "r.width = 3\n",
    "r.height = 4\n",
    "\n",
    "r.corner1 = Point()\n",
    "\n",
    "r.corner1.x = 0\n",
    "r.corner1.y = 0\n",
    "\n",
    "move_rectangle(r,3,4)\n",
    "\n",
    "print r.corner1.x,r.corner1.y"
   ]
  },
  {
   "cell_type": "markdown",
   "metadata": {
    "is_question": true,
    "problem": "Exercise 15.3"
   },
   "source": [
    "### Exercise 3  \n",
    "\n",
    "Write a version of `move_rectangle` that creates and returns a new `Rectangle` instead of modifying the old one."
   ]
  },
  {
   "cell_type": "code",
   "execution_count": 43,
   "metadata": {
    "collapsed": false,
    "solution": "Exercise 15.3"
   },
   "outputs": [
    {
     "name": "stdout",
     "output_type": "stream",
     "text": [
      "3 4  and  0 0\n"
     ]
    }
   ],
   "source": [
    "import copy\n",
    "\n",
    "def move_rectangle_copy(Rectangle, dx, dy):\n",
    "    r2 = copy.deepcopy(Rectangle)\n",
    "    r2.corner1.x += dx\n",
    "    r2.corner1.y += dy\n",
    "    return r2\n",
    "    \n",
    "r = Rectangle()\n",
    "r.width = 3\n",
    "r.height = 4\n",
    "\n",
    "r.corner1 = Point()\n",
    "\n",
    "r.corner1.x = 0\n",
    "r.corner1.y = 0\n",
    "\n",
    "new_rect = move_rectangle_copy(r,3,4)\n",
    "\n",
    "print new_rect.corner1.x, new_rect.corner1.y, \" and \", r.corner1.x,r.corner1.y"
   ]
  },
  {
   "cell_type": "markdown",
   "metadata": {
    "is_question": true,
    "problem": "Time spent"
   },
   "source": [
    "## Quick poll\n",
    "About how long did you spend working on this Reading Journal?"
   ]
  },
  {
   "cell_type": "markdown",
   "metadata": {
    "poll_response": true,
    "solution": "Time spent"
   },
   "source": [
    "Maybe two hours? "
   ]
  },
  {
   "cell_type": "markdown",
   "metadata": {
    "is_question": true,
    "problem": "Feedback"
   },
   "source": [
    "## Reading Journal feedback\n",
    "\n",
    "Have any comments on this Reading Journal? Feel free to leave them below and we'll read them when you submit your journal entry. This could include suggestions to improve the exercises, topics you'd like to see covered in class next time, or other feedback.\n",
    "\n",
    "If you have Python questions or run into problems while completing the reading, you should post them to Piazza instead so you can get a quick response before your journal is submitted."
   ]
  },
  {
   "cell_type": "markdown",
   "metadata": {
    "feedback_response": true,
    "solution": "Feedback"
   },
   "source": [
    " "
   ]
  }
 ],
 "metadata": {
  "celltoolbar": "Edit Metadata",
  "kernelspec": {
   "display_name": "Python 2",
   "language": "python",
   "name": "python2"
  },
  "language_info": {
   "codemirror_mode": {
    "name": "ipython",
    "version": 2
   },
   "file_extension": ".py",
   "mimetype": "text/x-python",
   "name": "python",
   "nbconvert_exporter": "python",
   "pygments_lexer": "ipython2",
   "version": "2.7.6"
  }
 },
 "nbformat": 4,
 "nbformat_minor": 0
}
