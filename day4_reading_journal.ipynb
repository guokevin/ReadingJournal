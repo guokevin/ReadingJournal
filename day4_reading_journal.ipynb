{
 "cells": [
  {
   "cell_type": "markdown",
   "metadata": {},
   "source": [
    "# Day 4 Reading Journal\n",
    "\n",
    "This journal includes several required exercises, but it is meant to encourage active reading more generally.  You should use the journal to take detailed notes, catalog questions, and explore the content from Think Python deeply.\n",
    "\n",
    "Reading: Think Python Chapter 10\n",
    "\n",
    "**Due: Thursday, February 4 at 12 noon**\n",
    "\n"
   ]
  },
  {
   "cell_type": "markdown",
   "metadata": {},
   "source": [
    "## [Chapter 10](http://www.greenteapress.com/thinkpython/html/thinkpython011.html)\n",
    "\n",
    "You may want to review [state diagrams in Chapter 2](http://www.greenteapress.com/thinkpython/html/thinkpython003.html#toc13). [Python Tutor](http://pythontutor.com/) is also helpful for visualizing the state of your program.\n",
    "\n"
   ]
  },
  {
   "cell_type": "markdown",
   "metadata": {},
   "source": [
    "### Map, Filter, and Reduce\n",
    "\n",
    "+= can be used as an \"accumulator\" to sum the elements of a list\n",
    "\n",
    "sum(list) to give sum of list\n",
    "\n",
    "Mapping is using a function on elements in a sequence\n",
    "\n",
    "Filters select some elements while filtering out others in a sequence\n",
    "\n",
    "\"list comprehension\" to deal with lists in python\n",
    "\n",
    "### Deleting Elements\n",
    "\n",
    "list.pop(i) deletes item and returns it\n",
    "\n",
    "del doesn't return it\n",
    "\n",
    "list.remove(i) returns none\n",
    "\n",
    "slice to remove more than one element (del t[1:5])\n",
    "\n",
    "### Lists and Strings\n",
    "\n",
    "convert from string to list use list(string)\n",
    "\n",
    "break a string into multiple words with string.split()\n",
    "\n",
    "s.split(delimiter) defines boundaries for split\n",
    "\n",
    "join(string) concatenates strings \n",
    "\n",
    "### Objects and Values\n",
    "\n",
    "equivalent means having same elements but not same IDs, which is what identical is\n",
    "\n",
    "and object has a value\n",
    "\n",
    "### Aliasing\n",
    "\n",
    "Association of variable with an object is a reference\n",
    "\n",
    "Object with more than one reference has more than one name so it is 'aliased'\n",
    "\n",
    "Aliased objects affect each other if one is changed\n",
    "\n",
    "### List Arguments\n",
    "\n",
    "Functions only get references to list when you pass it as an argument\n",
    "\n"
   ]
  },
  {
   "cell_type": "markdown",
   "metadata": {},
   "source": [
    "### Exercise 4  \n",
    "Write a function called `middle` that takes a list and returns a new list that contains all but the first and last elements. So `middle([1,2,3,4])` should return `[2,3]`."
   ]
  },
  {
   "cell_type": "code",
   "execution_count": 11,
   "metadata": {
    "collapsed": false
   },
   "outputs": [
    {
     "data": {
      "text/plain": [
       "[2, 3, 4, 5, 6]"
      ]
     },
     "execution_count": 11,
     "metadata": {},
     "output_type": "execute_result"
    }
   ],
   "source": [
    "def middle(orig):\n",
    "    return orig[1:len(orig)-1]\n",
    "\n",
    "middle([1,2,3,4,5,6,7])"
   ]
  },
  {
   "cell_type": "markdown",
   "metadata": {},
   "source": [
    "### Exercise 5  \n",
    "Write a function called `chop` that takes a list, modifies it by removing the first and last elements, and returns `None`.\n",
    "\n",
    "What is the difference between `middle` and `chop`? Sketch out the program state or take a look at each in Python Tutor."
   ]
  },
  {
   "cell_type": "code",
   "execution_count": 7,
   "metadata": {
    "collapsed": false
   },
   "outputs": [
    {
     "name": "stdout",
     "output_type": "stream",
     "text": [
      "[2, 3, 4, 5, 6]\n"
     ]
    }
   ],
   "source": [
    "def chop(orig):\n",
    "    del orig[0]\n",
    "    del orig[len(orig)-1]\n",
    "    \n",
    "orig = [1,2,3,4,5,6,7]\n",
    "chop(orig)\n",
    "print orig\n",
    "\n",
    "#One modifies original and doesn't return a value while the other does"
   ]
  },
  {
   "cell_type": "markdown",
   "metadata": {},
   "source": [
    "### Exercise 7  \n",
    "Two words are anagrams if you can rearrange the letters from one to spell the other. Write a function called `is_anagram` that takes two strings and returns `True` if they are anagrams."
   ]
  },
  {
   "cell_type": "code",
   "execution_count": 33,
   "metadata": {
    "collapsed": false
   },
   "outputs": [
    {
     "data": {
      "text/plain": [
       "True"
      ]
     },
     "execution_count": 33,
     "metadata": {},
     "output_type": "execute_result"
    }
   ],
   "source": [
    "def is_anagram(str1, str2):\n",
    "    \n",
    "    if(len(str1) != len(str2)):\n",
    "        return\n",
    "\n",
    "    str_list_1 = list(str1)\n",
    "    str_list_2 = list(str2)\n",
    "    str_list_1.sort()\n",
    "    str_list_2.sort()\n",
    "\n",
    "    count = 0\n",
    "    for x in str_list_1:\n",
    "        temp = False\n",
    "        for y in str_list_2:\n",
    "            if(x == y):\n",
    "                count += 1\n",
    "                temp = True\n",
    "            if(temp):\n",
    "                break\n",
    "\n",
    "    if(count == len(str1)):\n",
    "        return True\n",
    "\n",
    "word1 = 'noon'\n",
    "word2 = 'onon'\n",
    "is_anagram(word1,word2)"
   ]
  },
  {
   "cell_type": "markdown",
   "metadata": {},
   "source": [
    "### Exercise 8  \n",
    "The (so-called) Birthday Paradox:\n",
    "1. Write a function called `has_duplicates` that takes a list and returns `True` if there is any element that appears more than once. It should not modify the original list.\n",
    "2. If there are 23 students in your class, what are the chances that two of you have the same birthday? You can estimate this probability by generating random samples of 23 birthdays and checking for matches. Hint: you can generate random birthdays with the randint function in the [random module](https://docs.python.org/2/library/random.html).\n",
    "\n",
    "You can read about this problem at http://en.wikipedia.org/wiki/Birthday_paradox, and you can download Allen's solution from http://thinkpython.com/code/birthday.py."
   ]
  },
  {
   "cell_type": "code",
   "execution_count": 39,
   "metadata": {
    "collapsed": false
   },
   "outputs": [
    {
     "data": {
      "text/plain": [
       "True"
      ]
     },
     "execution_count": 39,
     "metadata": {},
     "output_type": "execute_result"
    }
   ],
   "source": [
    "def has_duplicates(orig):\n",
    "    new = []\n",
    "    for x in orig:\n",
    "        new.append(x)\n",
    "        \n",
    "    new.sort()\n",
    "    temp = None\n",
    "    for x in new:\n",
    "        if(x == temp):\n",
    "            return True\n",
    "        temp = x\n",
    "        \n",
    "# orig = None\n",
    "orig = [6,1,5,3,2,4,6,8,0]\n",
    "has_duplicates(orig)\n",
    "# print orig"
   ]
  },
  {
   "cell_type": "markdown",
   "metadata": {},
   "source": [
    "### Challenge: Exercise 11 (optional)\n",
    "\n",
    "You should read [Chapter 9.1](http://www.greenteapress.com/thinkpython/html/thinkpython010.html) and do Exercise 1 first.\n",
    "\n",
    "To check whether a word is in the word list, you could use the `in` operator, but it would be relatively slow because it searches through the words in order (try it).\n",
    "\n",
    "Because the words are in alphabetical order, we can speed things up with a bisection search (also known as binary search), which is similar to what you do when you look a word up in the dictionary. You start in the middle and check to see whether the word you are looking for comes before the word in the middle of the list. If so, then you search the first half of the list the same way. Otherwise you search the second half.\n",
    "\n",
    "Either way, you cut the remaining search space in half. If the word list has 113,809 words, it will take about 17 steps to find the word or conclude that it’s not there.\n",
    "\n",
    "Write a function called `bisect` that takes a sorted list and a target value and returns the index of the value in the list, if it’s there, or `None` if it’s not.\n",
    "\n",
    "Or you could read the documentation of the `bisect` module and use that! Solution: http://thinkpython.com/code/inlist.py."
   ]
  },
  {
   "cell_type": "code",
   "execution_count": 10,
   "metadata": {
    "collapsed": false
   },
   "outputs": [
    {
     "data": {
      "text/plain": [
       "2"
      ]
     },
     "execution_count": 10,
     "metadata": {},
     "output_type": "execute_result"
    }
   ],
   "source": [
    "from bisect import*\n",
    "\n",
    "def bisect(words, val):\n",
    "    lo = 0\n",
    "    hi = len(words)-1\n",
    "    curr = hi/2\n",
    "    # print words[curr]\n",
    "    # print val\n",
    "    \n",
    "    while(words[curr] != val):\n",
    "        curr = (hi-lo)/2 + lo\n",
    "        # print curr\n",
    "        if(curr == lo):\n",
    "            return None\n",
    "        current = words[curr]\n",
    "        if(current == val):\n",
    "            return curr\n",
    "        if(current > val):\n",
    "            hi = curr\n",
    "        else:\n",
    "            lo = curr\n",
    "\n",
    "    #     if(words[curr] == val):\n",
    "    #         print 'a'\n",
    "    #         return curr\n",
    "    # print 'c'\n",
    "#     print words[i]\n",
    "#     print words[3]\n",
    "    \n",
    "bisect(['a', 'b', 'c', 'd', 'e', 'f', 'g', 'h', 'i', 'j', 'k', 'l', 'm'],'c')"
   ]
  },
  {
   "cell_type": "markdown",
   "metadata": {},
   "source": [
    "## Reading Journal feedback\n",
    "\n",
    "Have any comments on this Reading Journal? Feel free to leave them below and we'll read them when you submit your journal entry. This could include suggestions to improve the exercises, topics you'd like to see covered in class next time, or other feedback.\n",
    "\n",
    "If you have Python questions or run into problems while completing the reading, you should post them to Piazza instead so you can get a quick response before your journal is submitted."
   ]
  },
  {
   "cell_type": "markdown",
   "metadata": {},
   "source": [
    " "
   ]
  }
 ],
 "metadata": {
  "kernelspec": {
   "display_name": "Python 2",
   "language": "python",
   "name": "python2"
  },
  "language_info": {
   "codemirror_mode": {
    "name": "ipython",
    "version": 2
   },
   "file_extension": ".py",
   "mimetype": "text/x-python",
   "name": "python",
   "nbconvert_exporter": "python",
   "pygments_lexer": "ipython2",
   "version": "2.7.6"
  }
 },
 "nbformat": 4,
 "nbformat_minor": 0
}
