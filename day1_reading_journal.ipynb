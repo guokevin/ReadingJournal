{
 "cells": [
  {
   "cell_type": "markdown",
   "metadata": {},
   "source": [
    "# Day 1 Reading Journal\n",
    "\n",
    "Hi everyone.  These are the exercises for the first set of readings from ThinkPython.  While this journal consists of several required exercises, it is meant to encourage active reading more generally.  You should use this journal to take detailed notes, catalog questions, and explore the content from ThinkPython deeply.\n",
    "\n",
    "For more information on using the Jupyter notebook, check out the documentation [here](http://nbviewer.jupyter.org/github/jupyter/notebook/blob/master/docs/source/examples/Notebook/Examples%20and%20Tutorials%20Index.ipynb).  Additionally, in order to write text in this document, you will be making use of markdown cells. A handy cheatsheet for markdown is available [here](https://github.com/adam-p/markdown-here/wiki/Markdown-Cheatsheet)."
   ]
  },
  {
   "cell_type": "markdown",
   "metadata": {},
   "source": [
    "## Chapter 1\n",
    "\n",
    "Note: the exercise numbers below match up with the reading for ease of cross referencing."
   ]
  },
  {
   "cell_type": "markdown",
   "metadata": {},
   "source": [
    "### Python Programming Language\n",
    "#### High-Level Language:\n",
    "Requires extra processing time\n",
    "\n",
    "Easier to write\n",
    "\n",
    "Interpreters and Compilers convert high-level into low-level language\n",
    "\n",
    "\"Source Code\" and \"Executable\" are names for converted source code\n",
    "\n",
    "#### Low-level Language:\n",
    "\"Machine Language\" because can be run by a machine without processing\n",
    "\n",
    "Not easily interchangeable between computers.\n",
    "\n",
    "#### Interpreter:\n",
    "Interactive Mode uses prompt \">>>\"\n",
    "\n",
    "Script mode stores code until you run it\n",
    "\n",
    "### What is a program?\n",
    "#### Programs:\n",
    "Sequence of instructions (e.g. input, output, math, conditional execution, repetition)\n",
    "\n",
    "### What is Debugging?\n",
    "#### Debugging:\n",
    "Errors are called bugs and three kinds can occur:\n",
    "\n",
    "-Syntax\n",
    "\n",
    "    Structure of the program\n",
    "    \n",
    "-Runtime\n",
    "\n",
    "    Error occurs in the middle of running program\n",
    "    \n",
    "-Semantic\n",
    "\n",
    "    Program runs, but you wrote it wrong\n",
    "    \n",
    "Modify program and try again to debug\n",
    "\n",
    "### Formal and Natural Languages\n",
    "Natural languages are evolved naturally and not design\n",
    "\n",
    "-Have lots of ambiguity that depend on contextual clues\n",
    "\n",
    "-Redundant to make up for ambiguity\n",
    "\n",
    "-Literalness\n",
    "\n",
    "Formal languages are designed for specific purposes e.g. math\n",
    "\n",
    "-Concise and unambiguous\n",
    "\n",
    "\"Programming languages are formal languages that have been designed to express computations.\"\n",
    "#### Ambiguity\n",
    "From most to least ambiguous: Poetry, Prose, Programs\n",
    "#### Syntax\n",
    "Syntax strict in formal languages\n",
    "\n",
    "Tokens: Actual elements of the language\n",
    "\n",
    "Structure: Arrangement of tokens\n",
    "\n",
    "Parsing: Interpreting structure of a \"sentence\""
   ]
  },
  {
   "cell_type": "markdown",
   "metadata": {},
   "source": [
    "### Exercise 3\n",
    "\n",
    "Type `help()` to start the online help utility. Or you can type help('print') to get information about the print statement.  You should type `q` and then hit `enter` in the text box to exit the help utility. \n",
    "\n",
    "Note: this exercise is pretty simple (and there's not much to put in the box)!  We just want to make sure that you have tried out this super-handy feature of Python!"
   ]
  },
  {
   "cell_type": "code",
   "execution_count": 1,
   "metadata": {
    "collapsed": false
   },
   "outputs": [
    {
     "name": "stdout",
     "output_type": "stream",
     "text": [
      "\n",
      "Welcome to Python 2.7!  This is the online help utility.\n",
      "\n",
      "If this is your first time using Python, you should definitely check out\n",
      "the tutorial on the Internet at http://docs.python.org/2.7/tutorial/.\n",
      "\n",
      "Enter the name of any module, keyword, or topic to get help on writing\n",
      "Python programs and using Python modules.  To quit this help utility and\n",
      "return to the interpreter, just type \"quit\".\n",
      "\n",
      "To get a list of available modules, keywords, or topics, type \"modules\",\n",
      "\"keywords\", or \"topics\".  Each module also comes with a one-line summary\n",
      "of what it does; to list the modules whose summaries contain a given word\n",
      "such as \"spam\", type \"modules spam\".\n",
      "\n",
      "help> q\n",
      "\n",
      "You are now leaving help and returning to the Python interpreter.\n",
      "If you want to ask for help on a particular object directly from the\n",
      "interpreter, you can type \"help(object)\".  Executing \"help('string')\"\n",
      "has the same effect as typing a particular string at the help> prompt.\n"
     ]
    }
   ],
   "source": [
    "help()"
   ]
  },
  {
   "cell_type": "markdown",
   "metadata": {},
   "source": [
    "### Exercise 4  \n",
    "\n",
    "Start the Python interpreter and use it as a calculator. Python’s syntax for math operations is almost the same as standard mathematical notation. For example, the symbols +, - and / denote addition, subtraction and division, as you would expect. The symbol for multiplication is *.\n",
    "\n",
    "If you run a 10 kilometer race in 43 minutes 30 seconds, what is your average time per mile? What is your average speed in miles per hour? (Hint: there are 1.61 kilometers in a mile). "
   ]
  },
  {
   "cell_type": "code",
   "execution_count": 21,
   "metadata": {
    "collapsed": false
   },
   "outputs": [
    {
     "data": {
      "text/plain": [
       "420.21000000000004"
      ]
     },
     "execution_count": 21,
     "metadata": {},
     "output_type": "execute_result"
    }
   ],
   "source": [
    "(43.0 * 60.0 + 30.0)/(10/1.61)"
   ]
  },
  {
   "cell_type": "markdown",
   "metadata": {},
   "source": [
    "420.21 seconds/mile"
   ]
  },
  {
   "cell_type": "code",
   "execution_count": 22,
   "metadata": {
    "collapsed": false
   },
   "outputs": [
    {
     "data": {
      "text/plain": [
       "8.567144998929106"
      ]
     },
     "execution_count": 22,
     "metadata": {},
     "output_type": "execute_result"
    }
   ],
   "source": [
    "(10.0/1.61)/((43.0 * 60.0 + 30.0)/(60.0 * 60.0))"
   ]
  },
  {
   "cell_type": "markdown",
   "metadata": {},
   "source": [
    "8.567 miles/hr"
   ]
  },
  {
   "cell_type": "markdown",
   "metadata": {},
   "source": [
    "## Chapter 2"
   ]
  },
  {
   "cell_type": "markdown",
   "metadata": {},
   "source": [
    "### Values and Types\n",
    "Value is basic info a program uses (str, int, float)\n",
    "\n",
    "No commas inside a number\n",
    "### Variables\n",
    "Name that refers to a value\n",
    "\n",
    "Assignment statement creates variables and gives them a value\n",
    "\n",
    "State Diagram-Write name with arrow pointing at variable's value\n",
    "### Variable Names and keywords\n",
    "Should begin with letter and lowercase (unpreferably uppercase)\n",
    "\n",
    "Underscore for good style\n",
    "\n",
    "Illegal variable name gives syntax error\n",
    "\n",
    "Keyword is a word that describes structure of program and can't be used for variable names\n",
    "\n",
    "(and as assert break class continue def del elif else except exec finally for from global if import in is lambda not or pass print raise return try while with yield)\n",
    "\n",
    "### Operators and Operands\n",
    "Operators and symbols which represent computations\n",
    "\n",
    "Operands are values operator is applied to\n",
    "\n",
    "Floor division rounds values down unless floats are used\n",
    "\n",
    "### Expressions and statements\n",
    "Expressions are combinations of values, variables, and operators--can even be just one of them\n",
    "\n",
    "Statement is unit of code that Python can run\n",
    "### Interactice mode and script mode\n",
    "Script will not print out values unless you tell Python to do so\n",
    "\n",
    "### String Operations\n",
    "Concatenation of strings with +\n",
    "Repetition of strings with *<#>\n",
    "\n",
    "### Comments\n",
    "'#' gives comments\n",
    "\n",
    "### Debugging\n",
    "Case sensitive values\n",
    "\n",
    "\n"
   ]
  },
  {
   "cell_type": "markdown",
   "metadata": {},
   "source": [
    "### Exercise 2  \n",
    "\n",
    "Assume that we execute the following assignment statements:\n",
    "\n",
    "width = 17\n",
    "height = 12.0\n",
    "delimiter = '.'\n",
    "\n",
    "For each of the following expressions, write the value of the expression and the type (of the value of the expression).\n",
    "\n",
    "1. `width/2`\n",
    "2. `width/2.0`\n",
    "3. `height/3`\n",
    "4. `1 + 2 * 5`\n",
    "5. `delimiter * 5`\n",
    "\n",
    "Please use the following markdown cell to provide your answer."
   ]
  },
  {
   "cell_type": "markdown",
   "metadata": {},
   "source": [
    "1. 8 <int>\n",
    "2. 8.5 <float>\n",
    "3. 4.0 <float>\n",
    "4. 11 <int>\n",
    "5. ..... <str>"
   ]
  },
  {
   "cell_type": "markdown",
   "metadata": {},
   "source": [
    "### Exercise 3  \n",
    "\n",
    "Practice using the Python interpreter as a calculator.  For each of these provide Python code that computes each answer.\n",
    "\n",
    "    \n"
   ]
  },
  {
   "cell_type": "markdown",
   "metadata": {},
   "source": [
    "The volume of a sphere with radius r is 4/3 $\\pi r^3$. What is the volume of a sphere with radius 5? Hint: 392.7 is wrong!"
   ]
  },
  {
   "cell_type": "code",
   "execution_count": 15,
   "metadata": {
    "collapsed": false
   },
   "outputs": [
    {
     "data": {
      "text/plain": [
       "523.3333333333334"
      ]
     },
     "execution_count": 15,
     "metadata": {},
     "output_type": "execute_result"
    }
   ],
   "source": [
    "(4.0/3.0 * pi * 5**3)"
   ]
  },
  {
   "cell_type": "markdown",
   "metadata": {},
   "source": [
    "Suppose the cover price of a book is \\$24.95, but bookstores get a 40% discount. Shipping costs \\$3 for the first copy and 75 cents for each additional copy. What is the total wholesale cost for 60 copies?"
   ]
  },
  {
   "cell_type": "code",
   "execution_count": 16,
   "metadata": {
    "collapsed": false
   },
   "outputs": [
    {
     "data": {
      "text/plain": [
       "946.1999999999999"
      ]
     },
     "execution_count": 16,
     "metadata": {},
     "output_type": "execute_result"
    }
   ],
   "source": [
    "60 * (.75 + 24.95 * .6) + 3"
   ]
  },
  {
   "cell_type": "markdown",
   "metadata": {},
   "source": [
    "If I leave my house at 6:52 am and run 1 mile at an easy pace (8:15 per mile), then 3 miles at tempo (7:12 per mile) and 1 mile at easy pace again, what time do I get home for breakfast? "
   ]
  },
  {
   "cell_type": "code",
   "execution_count": 20,
   "metadata": {
    "collapsed": false
   },
   "outputs": [
    {
     "data": {
      "text/plain": [
       "7.501666666666667"
      ]
     },
     "execution_count": 20,
     "metadata": {},
     "output_type": "execute_result"
    }
   ],
   "source": [
    "(2*(15.0/60 + 8) + 3*(12.0/60 + 7) + 6*60 + 52)/60"
   ]
  },
  {
   "cell_type": "markdown",
   "metadata": {},
   "source": [
    "Around 7:30"
   ]
  },
  {
   "cell_type": "markdown",
   "metadata": {},
   "source": [
    "## Chapter 3"
   ]
  },
  {
   "cell_type": "markdown",
   "metadata": {},
   "source": [
    "### Function Calls\n",
    "Functions are statements which perform a specific computation\n",
    "\n",
    "Value in parantheses is argument\n",
    "\n",
    "### Type Conversion Function\n",
    "float() converts ints and strings to floats\n",
    "\n",
    "string() converts argument to string\n",
    "\n",
    "int() converts floats to ints by chopping off decimal component, not rounding!!!!!\n",
    "\n",
    "### Math functions\n",
    "module is a file that contains a collection of related functions\n",
    "\n",
    "\"import math\" needed first and creates module object \"math\"\n",
    "\n",
    "math.*function* calls a math function -- called dot notation\n",
    "\n",
    "functions include:\n",
    "\n",
    "log10, log *(base e)*, sin, cos, pi, sqrt\n",
    "\n",
    "### Adding New Functions\n",
    "\"def\" defines a keyword and requires parantheses at the end\n",
    "\n",
    "First line of function definition is called \"header\" and the rest is a \"body\"\n",
    "\n",
    "Header ends with colon and body is indented\n",
    "\n",
    "Print statements generally use double quote\n",
    "\n",
    "Defining a function creates a variable with the name of type function. Value of the function is a function object.\n",
    "\n",
    "### Parameters and Arguments\n",
    "Parameters are the values that take the place of an argument\n",
    "\n",
    "Argument inside function call is applied before it runs the function\n",
    "\n",
    "### Stack Diagrams\n",
    "Stack diagram show value of each variable and also shows the function each variable is a part of.\n",
    "\n",
    "-Function is represented by a frame\n",
    "\n",
    "-Name of function next to frame\n",
    "\n",
    "-Parameters and Variables inside frame\n",
    "\n",
    "-main is the topmost frame and any variable outside of a function is in main\n",
    "\n",
    "### Importing with from\n",
    "Using \"from\" in front of an import allows you to access specific objects from that module directly. e.g. pi\n",
    "\n",
    "Adding an * at the end import every object from that module directly.\n",
    "\n",
    "### Debugging\n",
    "Use spaces instead of tabs if no tabs are available in text editor"
   ]
  },
  {
   "cell_type": "code",
   "execution_count": 35,
   "metadata": {
    "collapsed": false,
    "scrolled": false
   },
   "outputs": [
    {
     "name": "stdout",
     "output_type": "stream",
     "text": [
      "fdffd\n",
      "dffsf\n",
      "fdffd\n",
      "dffsf\n"
     ]
    }
   ],
   "source": [
    "b()\n",
    "\n",
    "def a():\n",
    "    print \"fdffd\"\n",
    "    print \"dffsf\"\n",
    "    \n",
    "def b():\n",
    "    a()\n",
    "    a()"
   ]
  },
  {
   "cell_type": "code",
   "execution_count": 34,
   "metadata": {
    "collapsed": false
   },
   "outputs": [
    {
     "name": "stdout",
     "output_type": "stream",
     "text": [
      "fdffd\n",
      "dffsf\n",
      "fdffd\n",
      "dffsf\n"
     ]
    }
   ],
   "source": [
    "def b():\n",
    "    a()\n",
    "    a()\n",
    "    \n",
    "def a():\n",
    "    print \"fdffd\"\n",
    "    print \"dffsf\"\n",
    "    \n",
    "b()"
   ]
  },
  {
   "cell_type": "markdown",
   "metadata": {},
   "source": [
    "### Exercise 3\n",
    "\n",
    "Python provides a built-in function called len that returns the length of a string, so the value of len('allen') is 5.\n",
    "Write a function named right_justify that takes a string named s as a parameter and prints the string with enough leading spaces so that the last letter of the string is in column 70 of the display.\n",
    "\n",
    "```\n",
    ">>> right_justify('allen')\n",
    "    \n",
    "                                                                 allen```\n",
    "                                                                 \n",
    "def right_justify(s):\n",
    "    print(' '*(70-len(s)) + s)"
   ]
  },
  {
   "cell_type": "code",
   "execution_count": 45,
   "metadata": {
    "collapsed": false,
    "scrolled": true
   },
   "outputs": [
    {
     "name": "stdout",
     "output_type": "stream",
     "text": [
      "                                                                     s\n"
     ]
    }
   ],
   "source": [
    "def right_justify(s):\n",
    "    print(' '*(70-len(s)) + s)\n",
    "    \n",
    "right_justify(s);"
   ]
  },
  {
   "cell_type": "markdown",
   "metadata": {},
   "source": [
    "### Exercise 5\n",
    "\n",
    "This exercise can be done using only the statements and other features we have learned so far.\n",
    "\n",
    "(a) Write a function that draws a grid like the following:\n",
    "```\n",
    "+ - - - - + - - - - +\n",
    "|         |         |\n",
    "|         |         |\n",
    "|         |         |\n",
    "|         |         |\n",
    "+ - - - - + - - - - +\n",
    "|         |         |\n",
    "|         |         |\n",
    "|         |         |\n",
    "|         |         |\n",
    "+ - - - - + - - - - +\n",
    "```\n",
    "**Hint:** to print more than one value on a line, you can print a comma-separated sequence:\n",
    "print '+', '-'\n",
    "If the sequence ends with a comma, Python leaves the line unfinished, so the value printed next appears on the same line.\n",
    "print '+', \n",
    "print '-'\n",
    "The output of these statements is '+ -'.\n",
    "A print statement all by itself ends the current line and goes to the next line."
   ]
  },
  {
   "cell_type": "code",
   "execution_count": 80,
   "metadata": {
    "collapsed": false
   },
   "outputs": [
    {
     "name": "stdout",
     "output_type": "stream",
     "text": [
      "+ - - - - + - - - - +\n",
      "|         |         |\n",
      "|         |         |\n",
      "|         |         |\n",
      "|         |         |\n",
      "+ - - - - + - - - - +\n",
      "|         |         |\n",
      "|         |         |\n",
      "|         |         |\n",
      "|         |         |\n",
      "+ - - - - + - - - - +\n"
     ]
    }
   ],
   "source": [
    "def draw_window():\n",
    "    draw_plus();\n",
    "    draw_lines();\n",
    "    draw_lines();\n",
    "    draw_lines();\n",
    "    draw_lines();\n",
    "    draw_plus();\n",
    "    draw_lines();\n",
    "    draw_lines();\n",
    "    draw_lines();\n",
    "    draw_lines();\n",
    "    draw_plus();\n",
    "    \n",
    "def draw_lines():\n",
    "    print('|' + ' '*9 + '|' + ' '*9 + '|')\n",
    "    \n",
    "def draw_plus():\n",
    "    print('+ ' + '- '*4 + '+ ' + '- '*4 + '+')\n",
    "    \n",
    "draw_window();"
   ]
  },
  {
   "cell_type": "markdown",
   "metadata": {},
   "source": [
    "(b) Write a function that draws a similar grid with four rows and four columns."
   ]
  },
  {
   "cell_type": "code",
   "execution_count": 62,
   "metadata": {
    "collapsed": false
   },
   "outputs": [
    {
     "name": "stdout",
     "output_type": "stream",
     "text": [
      "+ - - + - - + - - +\n",
      "|     |     |     |\n",
      "|     |     |     |\n",
      "+ - - + - - + - - +\n",
      "|     |     |     |\n",
      "|     |     |     |\n",
      "+ - - + - - + - - +\n",
      "|     |     |     |\n",
      "|     |     |     |\n",
      "+ - - + - - + - - +\n",
      "|     |     |     |\n",
      "|     |     |     |\n",
      "+ - - + - - + - - +\n"
     ]
    }
   ],
   "source": [
    "def draw_window():\n",
    "    draw_plus();\n",
    "    draw_lines();\n",
    "    draw_lines();\n",
    "    draw_plus();\n",
    "    draw_lines();\n",
    "    draw_lines();\n",
    "    draw_plus();\n",
    "    draw_lines();\n",
    "    draw_lines()\n",
    "    draw_plus();\n",
    "    draw_lines();\n",
    "    draw_lines();\n",
    "    draw_plus();\n",
    "    \n",
    "def draw_lines():\n",
    "    print('|' + ' '*5 + '|' + ' '*5 + '|'+ ' '*5 + '|')\n",
    "    \n",
    "def draw_plus():\n",
    "    print('+ ' + '- '*2 + '+ ' + '- '*2 + '+ ' + '- '*2 + '+')\n",
    "    \n",
    "draw_window();"
   ]
  },
  {
   "cell_type": "markdown",
   "metadata": {},
   "source": [
    "## Chapter 5.1 - 5.7"
   ]
  },
  {
   "cell_type": "markdown",
   "metadata": {},
   "source": [
    "### Modulus Operator\n",
    "Modulus Operator gives remainders: 7%3 = 1\n",
    "\n",
    "### Logical Operators\n",
    "and, not, or\n",
    "\n",
    "### Conditional Execution\n",
    "If statement implementation:\n",
    "\n",
    "if x > 0:\n",
    "\n",
    "Boolean expression after if is the condition. Compound statements have the same structure as a function (i.e. header followed by indented body)\n",
    "\n",
    "### Alternative Execution\n",
    "if x > 0:\n",
    "\n",
    "    fdjffe\n",
    "    \n",
    "else:\n",
    "\n",
    "    fdfee\n",
    "    \n",
    "Alternatives are called branches\n",
    "\n",
    "### Chained Conditionals\n",
    "if x> 0:\n",
    "\n",
    "    fdfef\n",
    "    \n",
    "elif x < 0:\n",
    "    \n",
    "    dfef"
   ]
  },
  {
   "cell_type": "markdown",
   "metadata": {},
   "source": [
    "### Exercise 3  \n",
    "\n",
    "Fermat’s Last Theorem says that there are no positive integers a, b, and c such that $a^n + b^n = c^n$ for any values of n greater than 2.\n",
    "\n",
    "(a) Write a function named `check_fermat` that takes four parameters—a, b, c and n—and that checks to see if Fermat’s theorem holds. If n is greater than 2 and it turns out to be true that\n",
    "$a^n + b^n = c^n$ the program should print, \"Holy smokes, Fermat was wrong!\" Otherwise the program should print, \"No, that doesn’t work.\""
   ]
  },
  {
   "cell_type": "code",
   "execution_count": 100,
   "metadata": {
    "collapsed": false
   },
   "outputs": [
    {
     "name": "stdout",
     "output_type": "stream",
     "text": [
      "No, that doesn’t work.\n"
     ]
    }
   ],
   "source": [
    "def check_fermat(a,b,c,n):\n",
    "    test = (a**n + b**n == c**n);\n",
    "    if test and n > 2:\n",
    "        print(\"Holy smokes, Fermat was wrong!\")\n",
    "    else:\n",
    "        print(\"No, that doesn’t work.\")\n",
    "        \n",
    "check_fermat(1,1,2,3);"
   ]
  },
  {
   "cell_type": "markdown",
   "metadata": {},
   "source": [
    "(b) Write a function that prompts the user to input values for a, b, c and n, converts them to integers, and uses check_fermat to check whether they violate Fermat’s theorem."
   ]
  },
  {
   "cell_type": "code",
   "execution_count": 101,
   "metadata": {
    "collapsed": false
   },
   "outputs": [
    {
     "name": "stdout",
     "output_type": "stream",
     "text": [
      "No, that doesn’t work.\n"
     ]
    }
   ],
   "source": [
    "def check_fermat(a,b,c,n):\n",
    "    test = (a**n + b**n == c**n);\n",
    "    if test and n > 2:\n",
    "        print(\"Holy smokes, Fermat was wrong!\")\n",
    "    else:\n",
    "        print(\"No, that doesn’t work.\")\n",
    "\n",
    "def convert(a,b,c,n):\n",
    "    a = int(a)\n",
    "    b = int(b)\n",
    "    c = int(c)\n",
    "    n = int(n)\n",
    "    check_fermat(a,b,c,n)\n",
    "    \n",
    "convert(1,2,3,4)"
   ]
  },
  {
   "cell_type": "markdown",
   "metadata": {},
   "source": [
    "### Exercise 4  \n",
    "\n",
    "If you are given three sticks, you may or may not be able to arrange them in a triangle. For example, if one of the sticks is 12 inches long and the other two are one inch long, it is clear that you will not be able to get the short sticks to meet in the middle. For any three lengths, there is a simple test to see if it is possible to form a triangle:\n",
    "> If any of the three lengths is greater than the sum of the other two, then you cannot form a triangle. Otherwise, you can. (If the sum of two lengths equals the third, they form what is called a “degenerate” triangle.)\n",
    "\n",
    "(a) Write a function named `is_triangle` that takes three integers as arguments, and that prints either \"Yes\" or \"No,\" depending on whether you can or cannot form a triangle from sticks with the given lengths."
   ]
  },
  {
   "cell_type": "code",
   "execution_count": 95,
   "metadata": {
    "collapsed": false
   },
   "outputs": [
    {
     "name": "stdout",
     "output_type": "stream",
     "text": [
      "Yes\n"
     ]
    }
   ],
   "source": [
    "def is_triangle(a,b,c):\n",
    "    if (a + b >= c):\n",
    "        if (b + c >= a):\n",
    "            if (c + a >= b):\n",
    "                print('Yes')\n",
    "            else:\n",
    "                print('No')\n",
    "        else:\n",
    "            print('No')\n",
    "    else:\n",
    "        print('No')\n",
    "        \n",
    "is_triangle(1,3,4)"
   ]
  },
  {
   "cell_type": "markdown",
   "metadata": {},
   "source": [
    "(b) Write a function that prompts the user to input three stick lengths, converts them to integers, and uses is_triangle to check whether sticks with the given lengths can form a triangle."
   ]
  },
  {
   "cell_type": "code",
   "execution_count": 99,
   "metadata": {
    "collapsed": false
   },
   "outputs": [
    {
     "name": "stdout",
     "output_type": "stream",
     "text": [
      "No\n"
     ]
    }
   ],
   "source": [
    "def convert(a,b,c):\n",
    "    a = int(a)\n",
    "    b = int(b)\n",
    "    c = int(c)\n",
    "    is_triangle(a,b,c);\n",
    "    \n",
    "convert(2.4, 3.7, 6.1)"
   ]
  },
  {
   "cell_type": "markdown",
   "metadata": {},
   "source": [
    "## Notes for the Instructors\n",
    "\n",
    "Please use the space below to write comments to help us plan the next class session.  For instance, if you want to see us go over an example of a particular type of problem, you can indicate that here.\n",
    "\n",
    "Please remember that the best way to get quick feedback from the instructors as well as your peers, is to use Piazza.  However, consider using this channel if it doesn't make sense to post your note to Piazza."
   ]
  },
  {
   "cell_type": "markdown",
   "metadata": {},
   "source": []
  }
 ],
 "metadata": {
  "kernelspec": {
   "display_name": "Python 2",
   "language": "python",
   "name": "python2"
  },
  "language_info": {
   "codemirror_mode": {
    "name": "ipython",
    "version": 2
   },
   "file_extension": ".py",
   "mimetype": "text/x-python",
   "name": "python",
   "nbconvert_exporter": "python",
   "pygments_lexer": "ipython2",
   "version": "2.7.6"
  }
 },
 "nbformat": 4,
 "nbformat_minor": 0
}
